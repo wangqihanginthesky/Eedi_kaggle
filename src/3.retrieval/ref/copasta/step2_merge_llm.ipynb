{
 "cells": [
  {
   "cell_type": "code",
   "execution_count": 1,
   "metadata": {
    "executionInfo": {
     "elapsed": 192,
     "status": "ok",
     "timestamp": 1733932063479,
     "user": {
      "displayName": "米川和仁",
      "userId": "04802509165152586358"
     },
     "user_tz": -540
    },
    "id": "WDstAFr1nC_Y"
   },
   "outputs": [],
   "source": [
    "DATA_PATH = \"./input\"\n",
    "MODEL_NAME = \"Qwen/Qwen2.5-14B\"\n",
    "OUTPUT_PATH = \".\"\n",
    "MODEL_LORA_PATH = f\"{OUTPUT_PATH}/output_retrieval/checkpoint-13240\"\n",
    "MODEL_OUTPUT_PATH = f\"{OUTPUT_PATH}/output_retrieval/output_merge\""
   ]
  },
  {
   "cell_type": "code",
   "execution_count": 2,
   "metadata": {
    "colab": {
     "base_uri": "https://localhost:8080/"
    },
    "executionInfo": {
     "elapsed": 10456,
     "status": "ok",
     "timestamp": 1733932074122,
     "user": {
      "displayName": "米川和仁",
      "userId": "04802509165152586358"
     },
     "user_tz": -540
    },
    "id": "CCdfsG_Jmpt4",
    "outputId": "dde17ada-dcf7-41e4-e952-2505b14db5b3"
   },
   "outputs": [
    {
     "name": "stdout",
     "output_type": "stream",
     "text": [
      "Requirement already satisfied: transformers==4.45.0 in /usr/local/lib/python3.10/dist-packages (4.45.0)\n",
      "Requirement already satisfied: filelock in /usr/local/lib/python3.10/dist-packages (from transformers==4.45.0) (3.16.1)\n",
      "Requirement already satisfied: huggingface-hub<1.0,>=0.23.2 in /usr/local/lib/python3.10/dist-packages (from transformers==4.45.0) (0.26.3)\n",
      "Requirement already satisfied: numpy>=1.17 in /usr/local/lib/python3.10/dist-packages (from transformers==4.45.0) (1.26.4)\n",
      "Requirement already satisfied: packaging>=20.0 in /usr/local/lib/python3.10/dist-packages (from transformers==4.45.0) (24.2)\n",
      "Requirement already satisfied: pyyaml>=5.1 in /usr/local/lib/python3.10/dist-packages (from transformers==4.45.0) (6.0.2)\n",
      "Requirement already satisfied: regex!=2019.12.17 in /usr/local/lib/python3.10/dist-packages (from transformers==4.45.0) (2024.9.11)\n",
      "Requirement already satisfied: requests in /usr/local/lib/python3.10/dist-packages (from transformers==4.45.0) (2.32.3)\n",
      "Requirement already satisfied: tokenizers<0.21,>=0.20 in /usr/local/lib/python3.10/dist-packages (from transformers==4.45.0) (0.20.3)\n",
      "Requirement already satisfied: safetensors>=0.4.1 in /usr/local/lib/python3.10/dist-packages (from transformers==4.45.0) (0.4.5)\n",
      "Requirement already satisfied: tqdm>=4.27 in /usr/local/lib/python3.10/dist-packages (from transformers==4.45.0) (4.66.6)\n",
      "Requirement already satisfied: fsspec>=2023.5.0 in /usr/local/lib/python3.10/dist-packages (from huggingface-hub<1.0,>=0.23.2->transformers==4.45.0) (2024.9.0)\n",
      "Requirement already satisfied: typing-extensions>=3.7.4.3 in /usr/local/lib/python3.10/dist-packages (from huggingface-hub<1.0,>=0.23.2->transformers==4.45.0) (4.12.2)\n",
      "Requirement already satisfied: charset-normalizer<4,>=2 in /usr/local/lib/python3.10/dist-packages (from requests->transformers==4.45.0) (3.4.0)\n",
      "Requirement already satisfied: idna<4,>=2.5 in /usr/local/lib/python3.10/dist-packages (from requests->transformers==4.45.0) (3.10)\n",
      "Requirement already satisfied: urllib3<3,>=1.21.1 in /usr/local/lib/python3.10/dist-packages (from requests->transformers==4.45.0) (2.2.3)\n",
      "Requirement already satisfied: certifi>=2017.4.17 in /usr/local/lib/python3.10/dist-packages (from requests->transformers==4.45.0) (2024.8.30)\n",
      "Requirement already satisfied: sentence-transformers==3.1.1 in /usr/local/lib/python3.10/dist-packages (3.1.1)\n",
      "Requirement already satisfied: transformers<5.0.0,>=4.38.0 in /usr/local/lib/python3.10/dist-packages (from sentence-transformers==3.1.1) (4.45.0)\n",
      "Requirement already satisfied: tqdm in /usr/local/lib/python3.10/dist-packages (from sentence-transformers==3.1.1) (4.66.6)\n",
      "Requirement already satisfied: torch>=1.11.0 in /usr/local/lib/python3.10/dist-packages (from sentence-transformers==3.1.1) (2.5.1+cu121)\n",
      "Requirement already satisfied: scikit-learn in /usr/local/lib/python3.10/dist-packages (from sentence-transformers==3.1.1) (1.5.2)\n",
      "Requirement already satisfied: scipy in /usr/local/lib/python3.10/dist-packages (from sentence-transformers==3.1.1) (1.13.1)\n",
      "Requirement already satisfied: huggingface-hub>=0.19.3 in /usr/local/lib/python3.10/dist-packages (from sentence-transformers==3.1.1) (0.26.3)\n",
      "Requirement already satisfied: Pillow in /usr/local/lib/python3.10/dist-packages (from sentence-transformers==3.1.1) (11.0.0)\n",
      "Requirement already satisfied: filelock in /usr/local/lib/python3.10/dist-packages (from huggingface-hub>=0.19.3->sentence-transformers==3.1.1) (3.16.1)\n",
      "Requirement already satisfied: fsspec>=2023.5.0 in /usr/local/lib/python3.10/dist-packages (from huggingface-hub>=0.19.3->sentence-transformers==3.1.1) (2024.9.0)\n",
      "Requirement already satisfied: packaging>=20.9 in /usr/local/lib/python3.10/dist-packages (from huggingface-hub>=0.19.3->sentence-transformers==3.1.1) (24.2)\n",
      "Requirement already satisfied: pyyaml>=5.1 in /usr/local/lib/python3.10/dist-packages (from huggingface-hub>=0.19.3->sentence-transformers==3.1.1) (6.0.2)\n",
      "Requirement already satisfied: requests in /usr/local/lib/python3.10/dist-packages (from huggingface-hub>=0.19.3->sentence-transformers==3.1.1) (2.32.3)\n",
      "Requirement already satisfied: typing-extensions>=3.7.4.3 in /usr/local/lib/python3.10/dist-packages (from huggingface-hub>=0.19.3->sentence-transformers==3.1.1) (4.12.2)\n",
      "Requirement already satisfied: networkx in /usr/local/lib/python3.10/dist-packages (from torch>=1.11.0->sentence-transformers==3.1.1) (3.4.2)\n",
      "Requirement already satisfied: jinja2 in /usr/local/lib/python3.10/dist-packages (from torch>=1.11.0->sentence-transformers==3.1.1) (3.1.4)\n",
      "Requirement already satisfied: sympy==1.13.1 in /usr/local/lib/python3.10/dist-packages (from torch>=1.11.0->sentence-transformers==3.1.1) (1.13.1)\n",
      "Requirement already satisfied: mpmath<1.4,>=1.1.0 in /usr/local/lib/python3.10/dist-packages (from sympy==1.13.1->torch>=1.11.0->sentence-transformers==3.1.1) (1.3.0)\n",
      "Requirement already satisfied: numpy>=1.17 in /usr/local/lib/python3.10/dist-packages (from transformers<5.0.0,>=4.38.0->sentence-transformers==3.1.1) (1.26.4)\n",
      "Requirement already satisfied: regex!=2019.12.17 in /usr/local/lib/python3.10/dist-packages (from transformers<5.0.0,>=4.38.0->sentence-transformers==3.1.1) (2024.9.11)\n",
      "Requirement already satisfied: tokenizers<0.21,>=0.20 in /usr/local/lib/python3.10/dist-packages (from transformers<5.0.0,>=4.38.0->sentence-transformers==3.1.1) (0.20.3)\n",
      "Requirement already satisfied: safetensors>=0.4.1 in /usr/local/lib/python3.10/dist-packages (from transformers<5.0.0,>=4.38.0->sentence-transformers==3.1.1) (0.4.5)\n",
      "Requirement already satisfied: joblib>=1.2.0 in /usr/local/lib/python3.10/dist-packages (from scikit-learn->sentence-transformers==3.1.1) (1.4.2)\n",
      "Requirement already satisfied: threadpoolctl>=3.1.0 in /usr/local/lib/python3.10/dist-packages (from scikit-learn->sentence-transformers==3.1.1) (3.5.0)\n",
      "Requirement already satisfied: MarkupSafe>=2.0 in /usr/local/lib/python3.10/dist-packages (from jinja2->torch>=1.11.0->sentence-transformers==3.1.1) (3.0.2)\n",
      "Requirement already satisfied: charset-normalizer<4,>=2 in /usr/local/lib/python3.10/dist-packages (from requests->huggingface-hub>=0.19.3->sentence-transformers==3.1.1) (3.4.0)\n",
      "Requirement already satisfied: idna<4,>=2.5 in /usr/local/lib/python3.10/dist-packages (from requests->huggingface-hub>=0.19.3->sentence-transformers==3.1.1) (3.10)\n",
      "Requirement already satisfied: urllib3<3,>=1.21.1 in /usr/local/lib/python3.10/dist-packages (from requests->huggingface-hub>=0.19.3->sentence-transformers==3.1.1) (2.2.3)\n",
      "Requirement already satisfied: certifi>=2017.4.17 in /usr/local/lib/python3.10/dist-packages (from requests->huggingface-hub>=0.19.3->sentence-transformers==3.1.1) (2024.8.30)\n"
     ]
    }
   ],
   "source": [
    "!pip install -q datasets\n",
    "!pip install -q -U bitsandbytes\n",
    "!pip install transformers==4.45.0\n",
    "!pip install sentence-transformers==3.1.1"
   ]
  },
  {
   "cell_type": "code",
   "execution_count": 4,
   "metadata": {
    "executionInfo": {
     "elapsed": 8,
     "status": "ok",
     "timestamp": 1733932083086,
     "user": {
      "displayName": "米川和仁",
      "userId": "04802509165152586358"
     },
     "user_tz": -540
    },
    "id": "6V3g6x_4XqEl"
   },
   "outputs": [],
   "source": [
    "import torch\n",
    "\n",
    "from transformers import Qwen2Model, Qwen2PreTrainedModel, Qwen2Config, AutoTokenizer\n",
    "from transformers.models.qwen2.modeling_qwen2 import (\n",
    "    Qwen2DecoderLayer,\n",
    "    Qwen2RMSNorm,\n",
    "    Qwen2Attention,\n",
    "    Qwen2FlashAttention2,\n",
    "    Qwen2SdpaAttention,\n",
    "    Qwen2MLP,\n",
    "    Qwen2RotaryEmbedding\n",
    ")\n",
    "from torch import nn\n",
    "\n",
    "from peft import PeftModel\n",
    "\n",
    "class ModifiedQwen2Attention(Qwen2Attention):\n",
    "    def __init__(self, *args, **kwargs):\n",
    "        super().__init__(*args, **kwargs)\n",
    "        self.is_causal = False\n",
    "\n",
    "\n",
    "class ModifiedQwen2FlashAttention2(Qwen2FlashAttention2):\n",
    "    def __init__(self, *args, **kwargs):\n",
    "        super().__init__(*args, **kwargs)\n",
    "        self.is_causal = False\n",
    "\n",
    "\n",
    "class ModifiedQwen2SdpaAttention(Qwen2SdpaAttention):\n",
    "    def __init__(self, *args, **kwargs):\n",
    "        super().__init__(*args, **kwargs)\n",
    "        self.is_causal = False\n",
    "\n",
    "\n",
    "QWEN2_ATTENTION_CLASSES = {\n",
    "    \"eager\": ModifiedQwen2Attention,\n",
    "    \"flash_attention_2\": ModifiedQwen2FlashAttention2,\n",
    "    \"sdpa\": ModifiedQwen2SdpaAttention,\n",
    "}\n",
    "\n",
    "\n",
    "class ModifiedQwen2DecoderLayer(Qwen2DecoderLayer):\n",
    "    def __init__(self, config: Qwen2Config, layer_idx: int):\n",
    "        nn.Module.__init__(self)\n",
    "        self.hidden_size = config.hidden_size\n",
    "\n",
    "        self.self_attn = QWEN2_ATTENTION_CLASSES[config._attn_implementation](\n",
    "            config=config, layer_idx=layer_idx\n",
    "        )\n",
    "\n",
    "        self.mlp = Qwen2MLP(config)\n",
    "        self.input_layernorm = Qwen2RMSNorm(config.hidden_size, eps=config.rms_norm_eps)\n",
    "        self.post_attention_layernorm = Qwen2RMSNorm(\n",
    "            config.hidden_size, eps=config.rms_norm_eps\n",
    "        )\n",
    "\n",
    "\n",
    "class Qwen2BiModel(Qwen2Model):\n",
    "    _no_split_modules = [\"ModifiedQwen2DecoderLayer\"]\n",
    "\n",
    "    def __init__(self, config: Qwen2Config):\n",
    "        Qwen2PreTrainedModel.__init__(self, config)\n",
    "        self.padding_idx = config.pad_token_id\n",
    "        self.vocab_size = config.vocab_size\n",
    "\n",
    "        self.embed_tokens = nn.Embedding(\n",
    "            config.vocab_size, config.hidden_size, self.padding_idx\n",
    "        )\n",
    "        self.layers = nn.ModuleList(\n",
    "            [\n",
    "                ModifiedQwen2DecoderLayer(config, layer_idx)\n",
    "                for layer_idx in range(config.num_hidden_layers)\n",
    "            ]\n",
    "        )\n",
    "        self._attn_implementation = config._attn_implementation\n",
    "        self.norm = Qwen2RMSNorm(config.hidden_size, eps=config.rms_norm_eps)\n",
    "        self.rotary_emb = Qwen2RotaryEmbedding(config=config)\n",
    "\n",
    "        self.gradient_checkpointing = False\n",
    "        # Initialize weights and apply final processing\n",
    "        self.post_init()"
   ]
  },
  {
   "cell_type": "code",
   "execution_count": 5,
   "metadata": {
    "colab": {
     "base_uri": "https://localhost:8080/",
     "height": 153,
     "referenced_widgets": [
      "08bfa3c23b404fbfbb3cd652597d6b32",
      "00ac7dd0cb584cccafc9382b485e907f",
      "7696ca565f9c4a33b0609f0c931b9bca",
      "fe016a47618a4d99bb3143c69bdafaca",
      "2057023eb7834f20ba2acf44e3bb3e9b",
      "5aa373374c5242eca4b212dad935c9d4",
      "200edf50f75b4cd2ac5894db736b9878",
      "824e1b400373450dab9a053fee51cd4f",
      "399c15ea34e544f391413d15b748f258",
      "ab6687ba39d34af3ab2d45414976b84b",
      "6f159ebf530946e085968b2e769a98ee"
     ]
    },
    "executionInfo": {
     "elapsed": 27933,
     "status": "ok",
     "timestamp": 1733932111013,
     "user": {
      "displayName": "米川和仁",
      "userId": "04802509165152586358"
     },
     "user_tz": -540
    },
    "id": "vjju5MwyU8rO",
    "outputId": "7d1db904-8aa3-430b-e19b-f82568b88106"
   },
   "outputs": [
    {
     "name": "stderr",
     "output_type": "stream",
     "text": [
      "/usr/local/lib/python3.10/dist-packages/huggingface_hub/utils/_auth.py:94: UserWarning: \n",
      "The secret `HF_TOKEN` does not exist in your Colab secrets.\n",
      "To authenticate with the Hugging Face Hub, create a token in your settings tab (https://huggingface.co/settings/tokens), set it as secret in your Google Colab and restart your session.\n",
      "You will be able to reuse this secret in all of your notebooks.\n",
      "Please note that authentication is recommended but still optional to access public models or datasets.\n",
      "  warnings.warn(\n"
     ]
    },
    {
     "data": {
      "application/vnd.jupyter.widget-view+json": {
       "model_id": "08bfa3c23b404fbfbb3cd652597d6b32",
       "version_major": 2,
       "version_minor": 0
      },
      "text/plain": [
       "Loading checkpoint shards:   0%|          | 0/8 [00:00<?, ?it/s]"
      ]
     },
     "metadata": {},
     "output_type": "display_data"
    }
   ],
   "source": [
    "base_model = Qwen2BiModel.from_pretrained(\n",
    "    MODEL_NAME,\n",
    "    device_map=\"auto\", #if torch.cuda.is_available() else \"cpu\",\n",
    "    torch_dtype=torch.bfloat16,\n",
    ")"
   ]
  },
  {
   "cell_type": "code",
   "execution_count": 11,
   "metadata": {
    "executionInfo": {
     "elapsed": 1205,
     "status": "ok",
     "timestamp": 1733932252872,
     "user": {
      "displayName": "米川和仁",
      "userId": "04802509165152586358"
     },
     "user_tz": -540
    },
    "id": "BO5pq6mVOuom"
   },
   "outputs": [],
   "source": [
    "tokenizer = AutoTokenizer.from_pretrained(MODEL_NAME)"
   ]
  },
  {
   "cell_type": "code",
   "execution_count": 7,
   "metadata": {
    "executionInfo": {
     "elapsed": 18334,
     "status": "ok",
     "timestamp": 1733932131344,
     "user": {
      "displayName": "米川和仁",
      "userId": "04802509165152586358"
     },
     "user_tz": -540
    },
    "id": "3uxuEs6UOrUo"
   },
   "outputs": [],
   "source": [
    "model = PeftModel.from_pretrained(base_model, MODEL_LORA_PATH)"
   ]
  },
  {
   "cell_type": "code",
   "execution_count": 8,
   "metadata": {
    "colab": {
     "base_uri": "https://localhost:8080/"
    },
    "executionInfo": {
     "elapsed": 417,
     "status": "ok",
     "timestamp": 1733932131754,
     "user": {
      "displayName": "米川和仁",
      "userId": "04802509165152586358"
     },
     "user_tz": -540
    },
    "id": "zehAlXzmnpy5",
    "outputId": "14262d5b-2adb-4947-e059-32fced5a95ae"
   },
   "outputs": [
    {
     "data": {
      "text/plain": [
       "Qwen2BiModel(\n",
       "  (embed_tokens): Embedding(152064, 5120)\n",
       "  (layers): ModuleList(\n",
       "    (0-47): 48 x ModifiedQwen2DecoderLayer(\n",
       "      (self_attn): ModifiedQwen2SdpaAttention(\n",
       "        (q_proj): Linear(in_features=5120, out_features=5120, bias=True)\n",
       "        (k_proj): Linear(in_features=5120, out_features=1024, bias=True)\n",
       "        (v_proj): Linear(in_features=5120, out_features=1024, bias=True)\n",
       "        (o_proj): Linear(in_features=5120, out_features=5120, bias=False)\n",
       "        (rotary_emb): Qwen2RotaryEmbedding()\n",
       "      )\n",
       "      (mlp): Qwen2MLP(\n",
       "        (gate_proj): Linear(in_features=5120, out_features=13824, bias=False)\n",
       "        (up_proj): Linear(in_features=5120, out_features=13824, bias=False)\n",
       "        (down_proj): Linear(in_features=13824, out_features=5120, bias=False)\n",
       "        (act_fn): SiLU()\n",
       "      )\n",
       "      (input_layernorm): Qwen2RMSNorm((5120,), eps=1e-05)\n",
       "      (post_attention_layernorm): Qwen2RMSNorm((5120,), eps=1e-05)\n",
       "    )\n",
       "  )\n",
       "  (norm): Qwen2RMSNorm((5120,), eps=1e-05)\n",
       "  (rotary_emb): Qwen2RotaryEmbedding()\n",
       ")"
      ]
     },
     "execution_count": 8,
     "metadata": {},
     "output_type": "execute_result"
    }
   ],
   "source": [
    "model = model.merge_and_unload()\n",
    "model"
   ]
  },
  {
   "cell_type": "code",
   "execution_count": 9,
   "metadata": {
    "executionInfo": {
     "elapsed": 113223,
     "status": "ok",
     "timestamp": 1733932244972,
     "user": {
      "displayName": "米川和仁",
      "userId": "04802509165152586358"
     },
     "user_tz": -540
    },
    "id": "y8XDFEyxuiwN"
   },
   "outputs": [],
   "source": [
    "model.save_pretrained(MODEL_OUTPUT_PATH)"
   ]
  },
  {
   "cell_type": "code",
   "execution_count": 12,
   "metadata": {
    "colab": {
     "base_uri": "https://localhost:8080/"
    },
    "executionInfo": {
     "elapsed": 438,
     "status": "ok",
     "timestamp": 1733932254720,
     "user": {
      "displayName": "米川和仁",
      "userId": "04802509165152586358"
     },
     "user_tz": -540
    },
    "id": "VzRERydDn4sh",
    "outputId": "6972a8aa-2663-4d4f-e60a-7cc32bc29e7c"
   },
   "outputs": [
    {
     "data": {
      "text/plain": [
       "('/content/drive/MyDrive/kaggle-eedi/exp/exp017_full/output_retrieval/output_merge/tokenizer_config.json',\n",
       " '/content/drive/MyDrive/kaggle-eedi/exp/exp017_full/output_retrieval/output_merge/special_tokens_map.json',\n",
       " '/content/drive/MyDrive/kaggle-eedi/exp/exp017_full/output_retrieval/output_merge/vocab.json',\n",
       " '/content/drive/MyDrive/kaggle-eedi/exp/exp017_full/output_retrieval/output_merge/merges.txt',\n",
       " '/content/drive/MyDrive/kaggle-eedi/exp/exp017_full/output_retrieval/output_merge/added_tokens.json',\n",
       " '/content/drive/MyDrive/kaggle-eedi/exp/exp017_full/output_retrieval/output_merge/tokenizer.json')"
      ]
     },
     "execution_count": 12,
     "metadata": {},
     "output_type": "execute_result"
    }
   ],
   "source": [
    "tokenizer.save_pretrained(MODEL_OUTPUT_PATH)"
   ]
  },
  {
   "cell_type": "code",
   "execution_count": 13,
   "metadata": {
    "colab": {
     "base_uri": "https://localhost:8080/"
    },
    "executionInfo": {
     "elapsed": 2674,
     "status": "ok",
     "timestamp": 1733932259758,
     "user": {
      "displayName": "米川和仁",
      "userId": "04802509165152586358"
     },
     "user_tz": -540
    },
    "id": "5h1gst0vvRVh",
    "outputId": "01af7718-486a-4a89-8a5e-cd828dd46e14"
   },
   "outputs": [
    {
     "name": "stdout",
     "output_type": "stream",
     "text": [
      "total 27342699\n",
      "-rw------- 1 root root        605 Dec 11 15:50 added_tokens.json\n",
      "-rw------- 1 root root        721 Dec 11 15:48 config.json\n",
      "-rw------- 1 root root    1671853 Dec 11 15:50 merges.txt\n",
      "-rw------- 1 root root 4986210800 Dec 11 15:49 model-00001-of-00006.safetensors\n",
      "-rw------- 1 root root 4954846696 Dec 11 15:49 model-00002-of-00006.safetensors\n",
      "-rw------- 1 root root 4954846744 Dec 11 15:49 model-00003-of-00006.safetensors\n",
      "-rw------- 1 root root 4954846744 Dec 11 15:50 model-00004-of-00006.safetensors\n",
      "-rw------- 1 root root 4954846744 Dec 11 15:50 model-00005-of-00006.safetensors\n",
      "-rw------- 1 root root 3177397264 Dec 11 15:50 model-00006-of-00006.safetensors\n",
      "-rw------- 1 root root      43946 Dec 11 15:50 model.safetensors.index.json\n",
      "-rw------- 1 root root        616 Dec 11 15:50 special_tokens_map.json\n",
      "-rw------- 1 root root       7229 Dec 11 15:50 tokenizer_config.json\n",
      "-rw------- 1 root root   11421896 Dec 11 15:50 tokenizer.json\n",
      "-rw------- 1 root root    2776833 Dec 11 15:50 vocab.json\n"
     ]
    }
   ],
   "source": [
    "!ls -l $MODEL_OUTPUT_PATH"
   ]
  },
  {
   "cell_type": "code",
   "execution_count": null,
   "metadata": {
    "executionInfo": {
     "elapsed": 3,
     "status": "aborted",
     "timestamp": 1733932244973,
     "user": {
      "displayName": "米川和仁",
      "userId": "04802509165152586358"
     },
     "user_tz": -540
    },
    "id": "m753mB91wjQ0"
   },
   "outputs": [],
   "source": []
  }
 ],
 "metadata": {
  "accelerator": "GPU",
  "colab": {
   "authorship_tag": "ABX9TyOOVKXOD9FN2F2UT7KRuZPA",
   "gpuType": "A100",
   "machine_shape": "hm",
   "mount_file_id": "1C0yVWaQ6qQpTYFejxv4Ly4iyVfHj9Wwt",
   "provenance": []
  },
  "kernelspec": {
   "display_name": "Python 3",
   "name": "python3"
  },
  "language_info": {
   "name": "python"
  },
  "widgets": {
   "application/vnd.jupyter.widget-state+json": {
    "00ac7dd0cb584cccafc9382b485e907f": {
     "model_module": "@jupyter-widgets/controls",
     "model_module_version": "1.5.0",
     "model_name": "HTMLModel",
     "state": {
      "_dom_classes": [],
      "_model_module": "@jupyter-widgets/controls",
      "_model_module_version": "1.5.0",
      "_model_name": "HTMLModel",
      "_view_count": null,
      "_view_module": "@jupyter-widgets/controls",
      "_view_module_version": "1.5.0",
      "_view_name": "HTMLView",
      "description": "",
      "description_tooltip": null,
      "layout": "IPY_MODEL_5aa373374c5242eca4b212dad935c9d4",
      "placeholder": "​",
      "style": "IPY_MODEL_200edf50f75b4cd2ac5894db736b9878",
      "value": "Loading checkpoint shards: 100%"
     }
    },
    "08bfa3c23b404fbfbb3cd652597d6b32": {
     "model_module": "@jupyter-widgets/controls",
     "model_module_version": "1.5.0",
     "model_name": "HBoxModel",
     "state": {
      "_dom_classes": [],
      "_model_module": "@jupyter-widgets/controls",
      "_model_module_version": "1.5.0",
      "_model_name": "HBoxModel",
      "_view_count": null,
      "_view_module": "@jupyter-widgets/controls",
      "_view_module_version": "1.5.0",
      "_view_name": "HBoxView",
      "box_style": "",
      "children": [
       "IPY_MODEL_00ac7dd0cb584cccafc9382b485e907f",
       "IPY_MODEL_7696ca565f9c4a33b0609f0c931b9bca",
       "IPY_MODEL_fe016a47618a4d99bb3143c69bdafaca"
      ],
      "layout": "IPY_MODEL_2057023eb7834f20ba2acf44e3bb3e9b"
     }
    },
    "200edf50f75b4cd2ac5894db736b9878": {
     "model_module": "@jupyter-widgets/controls",
     "model_module_version": "1.5.0",
     "model_name": "DescriptionStyleModel",
     "state": {
      "_model_module": "@jupyter-widgets/controls",
      "_model_module_version": "1.5.0",
      "_model_name": "DescriptionStyleModel",
      "_view_count": null,
      "_view_module": "@jupyter-widgets/base",
      "_view_module_version": "1.2.0",
      "_view_name": "StyleView",
      "description_width": ""
     }
    },
    "2057023eb7834f20ba2acf44e3bb3e9b": {
     "model_module": "@jupyter-widgets/base",
     "model_module_version": "1.2.0",
     "model_name": "LayoutModel",
     "state": {
      "_model_module": "@jupyter-widgets/base",
      "_model_module_version": "1.2.0",
      "_model_name": "LayoutModel",
      "_view_count": null,
      "_view_module": "@jupyter-widgets/base",
      "_view_module_version": "1.2.0",
      "_view_name": "LayoutView",
      "align_content": null,
      "align_items": null,
      "align_self": null,
      "border": null,
      "bottom": null,
      "display": null,
      "flex": null,
      "flex_flow": null,
      "grid_area": null,
      "grid_auto_columns": null,
      "grid_auto_flow": null,
      "grid_auto_rows": null,
      "grid_column": null,
      "grid_gap": null,
      "grid_row": null,
      "grid_template_areas": null,
      "grid_template_columns": null,
      "grid_template_rows": null,
      "height": null,
      "justify_content": null,
      "justify_items": null,
      "left": null,
      "margin": null,
      "max_height": null,
      "max_width": null,
      "min_height": null,
      "min_width": null,
      "object_fit": null,
      "object_position": null,
      "order": null,
      "overflow": null,
      "overflow_x": null,
      "overflow_y": null,
      "padding": null,
      "right": null,
      "top": null,
      "visibility": null,
      "width": null
     }
    },
    "399c15ea34e544f391413d15b748f258": {
     "model_module": "@jupyter-widgets/controls",
     "model_module_version": "1.5.0",
     "model_name": "ProgressStyleModel",
     "state": {
      "_model_module": "@jupyter-widgets/controls",
      "_model_module_version": "1.5.0",
      "_model_name": "ProgressStyleModel",
      "_view_count": null,
      "_view_module": "@jupyter-widgets/base",
      "_view_module_version": "1.2.0",
      "_view_name": "StyleView",
      "bar_color": null,
      "description_width": ""
     }
    },
    "5aa373374c5242eca4b212dad935c9d4": {
     "model_module": "@jupyter-widgets/base",
     "model_module_version": "1.2.0",
     "model_name": "LayoutModel",
     "state": {
      "_model_module": "@jupyter-widgets/base",
      "_model_module_version": "1.2.0",
      "_model_name": "LayoutModel",
      "_view_count": null,
      "_view_module": "@jupyter-widgets/base",
      "_view_module_version": "1.2.0",
      "_view_name": "LayoutView",
      "align_content": null,
      "align_items": null,
      "align_self": null,
      "border": null,
      "bottom": null,
      "display": null,
      "flex": null,
      "flex_flow": null,
      "grid_area": null,
      "grid_auto_columns": null,
      "grid_auto_flow": null,
      "grid_auto_rows": null,
      "grid_column": null,
      "grid_gap": null,
      "grid_row": null,
      "grid_template_areas": null,
      "grid_template_columns": null,
      "grid_template_rows": null,
      "height": null,
      "justify_content": null,
      "justify_items": null,
      "left": null,
      "margin": null,
      "max_height": null,
      "max_width": null,
      "min_height": null,
      "min_width": null,
      "object_fit": null,
      "object_position": null,
      "order": null,
      "overflow": null,
      "overflow_x": null,
      "overflow_y": null,
      "padding": null,
      "right": null,
      "top": null,
      "visibility": null,
      "width": null
     }
    },
    "6f159ebf530946e085968b2e769a98ee": {
     "model_module": "@jupyter-widgets/controls",
     "model_module_version": "1.5.0",
     "model_name": "DescriptionStyleModel",
     "state": {
      "_model_module": "@jupyter-widgets/controls",
      "_model_module_version": "1.5.0",
      "_model_name": "DescriptionStyleModel",
      "_view_count": null,
      "_view_module": "@jupyter-widgets/base",
      "_view_module_version": "1.2.0",
      "_view_name": "StyleView",
      "description_width": ""
     }
    },
    "7696ca565f9c4a33b0609f0c931b9bca": {
     "model_module": "@jupyter-widgets/controls",
     "model_module_version": "1.5.0",
     "model_name": "FloatProgressModel",
     "state": {
      "_dom_classes": [],
      "_model_module": "@jupyter-widgets/controls",
      "_model_module_version": "1.5.0",
      "_model_name": "FloatProgressModel",
      "_view_count": null,
      "_view_module": "@jupyter-widgets/controls",
      "_view_module_version": "1.5.0",
      "_view_name": "ProgressView",
      "bar_style": "success",
      "description": "",
      "description_tooltip": null,
      "layout": "IPY_MODEL_824e1b400373450dab9a053fee51cd4f",
      "max": 8,
      "min": 0,
      "orientation": "horizontal",
      "style": "IPY_MODEL_399c15ea34e544f391413d15b748f258",
      "value": 8
     }
    },
    "824e1b400373450dab9a053fee51cd4f": {
     "model_module": "@jupyter-widgets/base",
     "model_module_version": "1.2.0",
     "model_name": "LayoutModel",
     "state": {
      "_model_module": "@jupyter-widgets/base",
      "_model_module_version": "1.2.0",
      "_model_name": "LayoutModel",
      "_view_count": null,
      "_view_module": "@jupyter-widgets/base",
      "_view_module_version": "1.2.0",
      "_view_name": "LayoutView",
      "align_content": null,
      "align_items": null,
      "align_self": null,
      "border": null,
      "bottom": null,
      "display": null,
      "flex": null,
      "flex_flow": null,
      "grid_area": null,
      "grid_auto_columns": null,
      "grid_auto_flow": null,
      "grid_auto_rows": null,
      "grid_column": null,
      "grid_gap": null,
      "grid_row": null,
      "grid_template_areas": null,
      "grid_template_columns": null,
      "grid_template_rows": null,
      "height": null,
      "justify_content": null,
      "justify_items": null,
      "left": null,
      "margin": null,
      "max_height": null,
      "max_width": null,
      "min_height": null,
      "min_width": null,
      "object_fit": null,
      "object_position": null,
      "order": null,
      "overflow": null,
      "overflow_x": null,
      "overflow_y": null,
      "padding": null,
      "right": null,
      "top": null,
      "visibility": null,
      "width": null
     }
    },
    "ab6687ba39d34af3ab2d45414976b84b": {
     "model_module": "@jupyter-widgets/base",
     "model_module_version": "1.2.0",
     "model_name": "LayoutModel",
     "state": {
      "_model_module": "@jupyter-widgets/base",
      "_model_module_version": "1.2.0",
      "_model_name": "LayoutModel",
      "_view_count": null,
      "_view_module": "@jupyter-widgets/base",
      "_view_module_version": "1.2.0",
      "_view_name": "LayoutView",
      "align_content": null,
      "align_items": null,
      "align_self": null,
      "border": null,
      "bottom": null,
      "display": null,
      "flex": null,
      "flex_flow": null,
      "grid_area": null,
      "grid_auto_columns": null,
      "grid_auto_flow": null,
      "grid_auto_rows": null,
      "grid_column": null,
      "grid_gap": null,
      "grid_row": null,
      "grid_template_areas": null,
      "grid_template_columns": null,
      "grid_template_rows": null,
      "height": null,
      "justify_content": null,
      "justify_items": null,
      "left": null,
      "margin": null,
      "max_height": null,
      "max_width": null,
      "min_height": null,
      "min_width": null,
      "object_fit": null,
      "object_position": null,
      "order": null,
      "overflow": null,
      "overflow_x": null,
      "overflow_y": null,
      "padding": null,
      "right": null,
      "top": null,
      "visibility": null,
      "width": null
     }
    },
    "fe016a47618a4d99bb3143c69bdafaca": {
     "model_module": "@jupyter-widgets/controls",
     "model_module_version": "1.5.0",
     "model_name": "HTMLModel",
     "state": {
      "_dom_classes": [],
      "_model_module": "@jupyter-widgets/controls",
      "_model_module_version": "1.5.0",
      "_model_name": "HTMLModel",
      "_view_count": null,
      "_view_module": "@jupyter-widgets/controls",
      "_view_module_version": "1.5.0",
      "_view_name": "HTMLView",
      "description": "",
      "description_tooltip": null,
      "layout": "IPY_MODEL_ab6687ba39d34af3ab2d45414976b84b",
      "placeholder": "​",
      "style": "IPY_MODEL_6f159ebf530946e085968b2e769a98ee",
      "value": " 8/8 [00:26&lt;00:00,  1.56s/it]"
     }
    }
   }
  }
 },
 "nbformat": 4,
 "nbformat_minor": 0
}
