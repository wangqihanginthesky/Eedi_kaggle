{
 "cells": [
  {
   "cell_type": "code",
   "execution_count": null,
   "metadata": {},
   "outputs": [],
   "source": [
    "import pandas as pd\n",
    "import torch\n",
    "import numpy as np\n",
    "from tqdm.auto import tqdm\n",
    "import random\n",
    "import os\n",
    "import re\n",
    "\n",
    "token = ''\n",
    "os.environ[\"OPENAI_API_KEY\"] = token"
   ]
  },
  {
   "cell_type": "code",
   "execution_count": null,
   "metadata": {},
   "outputs": [],
   "source": [
    "df = pd.read_csv('../../../../data/2.synthetic_data_generation/generation1/generation1_all_render.csv')\n",
    "df"
   ]
  },
  {
   "cell_type": "code",
   "execution_count": 5,
   "metadata": {},
   "outputs": [],
   "source": [
    "system_prompt_template = 'You are an excellent math teacher about to teach students of year group 1 to 14. You will be provided a misconception and a problem with a wrong answer. Your task is to score the quality of the question based on whether the wrong answer is a well designed distractor to correspond with the given misconception.'\n",
    "user_prompt_template = ''''Observe the following constraints must be adhered to and score the quality of the given question based on the constraints\n",
    "\n",
    "# Constraints\n",
    "- Never respond in sentense\n",
    "- Answer the question with a number from 0 to 5\n",
    "- The maximum score is 5, and the following criteria will be used to evaluate the scores\n",
    "\n",
    "# criteria\n",
    "## The following questions should be scored -5 points.\n",
    "- The given misconception will not lead to the wrong answer\n",
    "- The wrong answer given is actually correct\n",
    "\n",
    "## The following questions should be scored -2 points\n",
    "- The question asks about a mathmatical concept\n",
    "- The question is too broad without specific context\n",
    "\n",
    "## The following questions should be scored -1 points\n",
    "- There may be multiple wrong answer under the same misconception\n",
    "- The wrong answer can be caused by other misconception\n",
    "\n",
    "# Example1\n",
    "## Input\n",
    "Misconception: Does not understand the term multiple\n",
    "Question: Can you give me a few multiples of the number \\\\( 4 \\\\)?\n",
    "Wrong Answer: 8, 12, 16\n",
    "\n",
    "## The Score is\n",
    "0\n",
    "\n",
    "# Example2\n",
    "## Input\n",
    "Misconception: Does not know the properties of a linear graph\n",
    "Question: Can you explain what it means for two lines to be parallel on a graph?\n",
    "Wrong Answer: Not enough information\n",
    "\n",
    "## The Score is\n",
    "3\n",
    "\n",
    "# Check\n",
    "## \n",
    "Misconception: {misconception}\n",
    "Question: {question}\n",
    "Wrong Answer: {wrong_answer}\n",
    "\n",
    "## The Score is\n",
    "'''"
   ]
  },
  {
   "cell_type": "code",
   "execution_count": 6,
   "metadata": {},
   "outputs": [
    {
     "data": {
      "application/vnd.jupyter.widget-view+json": {
       "model_id": "a7257c325b394d0591fbc9fd94b07859",
       "version_major": 2,
       "version_minor": 0
      },
      "text/plain": [
       "  0%|          | 0/4312 [00:00<?, ?it/s]"
      ]
     },
     "metadata": {},
     "output_type": "display_data"
    }
   ],
   "source": [
    "messages_list = []\n",
    "for i in tqdm(range(len(df))):\n",
    "    row = df.iloc[i]\n",
    "    misconception = row['MisconceptionName']\n",
    "    question = row['QuestionText']\n",
    "    wrong_answer = row['AnswerText']\n",
    "\n",
    "    user_prompt = user_prompt_template.format(misconception=misconception, question=question,wrong_answer=wrong_answer)\n",
    "    system_prompt = system_prompt_template\n",
    "    messages = [\n",
    "        {\"role\": \"system\", \"content\": system_prompt},\n",
    "        {\"role\": \"user\", \"content\": user_prompt},\n",
    "    ]\n",
    "    messages_list.append(messages)"
   ]
  },
  {
   "cell_type": "code",
   "execution_count": null,
   "metadata": {},
   "outputs": [],
   "source": [
    "from typing import List\n",
    "import json\n",
    "\n",
    "output_file = \"misconception_question_generation1_eval.jsonl\"\n",
    "\n",
    "with open(output_file, 'a') as f:\n",
    "    _id=0\n",
    "    for messages in messages_list:\n",
    "        data = {\n",
    "            \"custom_id\": f\"request-{_id}\",\n",
    "            \"method\": \"POST\",\n",
    "            \"url\": \"/v1/chat/completions\",\n",
    "            \"body\": {\n",
    "                \"model\": \"gpt-4o-mini\",\n",
    "                \"messages\": messages,\n",
    "                \"max_tokens\": 1024\n",
    "            }\n",
    "        }\n",
    "        _id+=1\n",
    "        f.write(json.dumps(data) + '\\n')"
   ]
  },
  {
   "cell_type": "code",
   "execution_count": 8,
   "metadata": {},
   "outputs": [
    {
     "data": {
      "text/plain": [
       "[[{'role': 'system',\n",
       "   'content': 'You are an excellent math teacher about to teach students of year group 1 to 14. You will be provided a misconception and a problem with a wrong answer. Your task is to score the quality of the question based on whether the wrong answer is a well designed distractor to correspond with the given misconception.'},\n",
       "  {'role': 'user',\n",
       "   'content': \"'Observe the following constraints must be adhered to and score the quality of the given question based on the constraints\\n\\n# Constraints\\n- Never respond in sentense\\n- Answer the question with a number from 0 to 5\\n- The maximum score is 5, and the following criteria will be used to evaluate the scores\\n\\n# criteria\\n## The following questions should be scored -5 points.\\n- The given misconception will not lead to the wrong answer\\n- The wrong answer given is actually correct\\n\\n## The following questions should be scored -2 points\\n- The question asks about a mathmatical concept\\n- The question is too broad without specific context\\n\\n## The following questions should be scored -1 points\\n- There may be multiple wrong answer under the same misconception\\n- The wrong answer can be caused by other misconception\\n\\n# Example1\\n## Input\\nMisconception: Does not understand the term multiple\\nQuestion: Can you give me a few multiples of the number \\\\( 4 \\\\)?\\nWrong Answer: 8, 12, 16\\n\\n## The Score is\\n0\\n\\n# Example2\\n## Input\\nMisconception: Does not know the properties of a linear graph\\nQuestion: Can you explain what it means for two lines to be parallel on a graph?\\nWrong Answer: Not enough information\\n\\n## The Score is\\n3\\n\\n# Check\\n## \\nMisconception: To find the range adds the biggest and smallest number rather than subtract\\nQuestion: What is the range of the following set of exam scores: 75, 92, 88, 76, 95, 89, 91, 82, 84, 90, 96, 78?\\nWrong Answer: 171\\n\\n## The Score is\\n\"}],\n",
       " [{'role': 'system',\n",
       "   'content': 'You are an excellent math teacher about to teach students of year group 1 to 14. You will be provided a misconception and a problem with a wrong answer. Your task is to score the quality of the question based on whether the wrong answer is a well designed distractor to correspond with the given misconception.'},\n",
       "  {'role': 'user',\n",
       "   'content': \"'Observe the following constraints must be adhered to and score the quality of the given question based on the constraints\\n\\n# Constraints\\n- Never respond in sentense\\n- Answer the question with a number from 0 to 5\\n- The maximum score is 5, and the following criteria will be used to evaluate the scores\\n\\n# criteria\\n## The following questions should be scored -5 points.\\n- The given misconception will not lead to the wrong answer\\n- The wrong answer given is actually correct\\n\\n## The following questions should be scored -2 points\\n- The question asks about a mathmatical concept\\n- The question is too broad without specific context\\n\\n## The following questions should be scored -1 points\\n- There may be multiple wrong answer under the same misconception\\n- The wrong answer can be caused by other misconception\\n\\n# Example1\\n## Input\\nMisconception: Does not understand the term multiple\\nQuestion: Can you give me a few multiples of the number \\\\( 4 \\\\)?\\nWrong Answer: 8, 12, 16\\n\\n## The Score is\\n0\\n\\n# Example2\\n## Input\\nMisconception: Does not know the properties of a linear graph\\nQuestion: Can you explain what it means for two lines to be parallel on a graph?\\nWrong Answer: Not enough information\\n\\n## The Score is\\n3\\n\\n# Check\\n## \\nMisconception: To find the range adds the biggest and smallest number rather than subtract\\nQuestion: A set of temperatures in a city over a week are as follows: -2, 5, 0, 3, 1, 6, 4. What is the range of temperatures?\\nWrong Answer: 4\\n\\n## The Score is\\n\"}]]"
      ]
     },
     "execution_count": 8,
     "metadata": {},
     "output_type": "execute_result"
    }
   ],
   "source": [
    "messages_list[0:2]"
   ]
  },
  {
   "cell_type": "code",
   "execution_count": null,
   "metadata": {},
   "outputs": [],
   "source": [
    "from openai import OpenAI\n",
    "client = OpenAI()\n",
    "\n",
    "batch_input_file = client.files.create(\n",
    "  file=open(output_file, \"rb\"),\n",
    "  purpose=\"batch\"\n",
    ")"
   ]
  },
  {
   "cell_type": "code",
   "execution_count": null,
   "metadata": {},
   "outputs": [
    {
     "data": {
      "text/plain": [
       "Batch(id='batch_67341d35fdd48190a55065172aa055f3', completion_window='24h', created_at=1731468598, endpoint='/v1/chat/completions', input_file_id='file-f7QTtr3t5h2iN6qYup4FUj4M', object='batch', status='validating', cancelled_at=None, cancelling_at=None, completed_at=None, error_file_id=None, errors=None, expired_at=None, expires_at=1731554998, failed_at=None, finalizing_at=None, in_progress_at=None, metadata={'description': 'misconception question eval part4'}, output_file_id=None, request_counts=BatchRequestCounts(completed=0, failed=0, total=0))"
      ]
     },
     "execution_count": 11,
     "metadata": {},
     "output_type": "execute_result"
    }
   ],
   "source": [
    "batch_input_file_id = batch_input_file.id\n",
    "\n",
    "batch_job = client.batches.create(\n",
    "    input_file_id=batch_input_file_id,\n",
    "    endpoint=\"/v1/chat/completions\",\n",
    "    completion_window=\"24h\",\n",
    "    metadata={\n",
    "      \"description\": \"misconception question generation1 eval\"\n",
    "    }\n",
    ")"
   ]
  },
  {
   "cell_type": "code",
   "execution_count": null,
   "metadata": {},
   "outputs": [],
   "source": []
  },
  {
   "cell_type": "markdown",
   "metadata": {},
   "source": [
    "# Wait for batch job to complete and retrieve results"
   ]
  },
  {
   "cell_type": "code",
   "execution_count": null,
   "metadata": {},
   "outputs": [
    {
     "data": {
      "text/plain": [
       "Batch(id='batch_67341d35fdd48190a55065172aa055f3', completion_window='24h', created_at=1731468598, endpoint='/v1/chat/completions', input_file_id='file-f7QTtr3t5h2iN6qYup4FUj4M', object='batch', status='completed', cancelled_at=None, cancelling_at=None, completed_at=1731472584, error_file_id=None, errors=None, expired_at=None, expires_at=1731554998, failed_at=None, finalizing_at=1731472140, in_progress_at=1731468599, metadata={'description': 'misconception question eval part4'}, output_file_id='file-xFOx5PlXzMn0EMAxjQmTLAal', request_counts=BatchRequestCounts(completed=4312, failed=0, total=4312))"
      ]
     },
     "execution_count": 15,
     "metadata": {},
     "output_type": "execute_result"
    }
   ],
   "source": [
    "client.batches.retrieve(batch_job.id)"
   ]
  },
  {
   "cell_type": "code",
   "execution_count": null,
   "metadata": {},
   "outputs": [],
   "source": [
    "import json\n",
    "file_id = 'your-file-id'\n",
    "file_response = client.files.content(file_id)\n",
    "\n",
    "lines = file_response1.text.strip().split('\\n')\n",
    "\n",
    "data = [json.loads(line) for line in lines]"
   ]
  },
  {
   "cell_type": "code",
   "execution_count": 19,
   "metadata": {},
   "outputs": [
    {
     "data": {
      "text/plain": [
       "['5', '5']"
      ]
     },
     "execution_count": 19,
     "metadata": {},
     "output_type": "execute_result"
    }
   ],
   "source": [
    "output_texts = [d['response']['body']['choices'][0]['message']['content'] for d in data]\n",
    "output_texts[0:2]"
   ]
  },
  {
   "cell_type": "markdown",
   "metadata": {},
   "source": [
    "# Manually clean the scores to -5 to 5 range"
   ]
  },
  {
   "cell_type": "code",
   "execution_count": null,
   "metadata": {},
   "outputs": [],
   "source": [
    "df['quality-gpt4o-mini'] = output_texts_cleaned\n",
    "df['quality-gpt4o-mini'] = df['quality-gpt4o-mini'].astype(int)"
   ]
  },
  {
   "cell_type": "code",
   "execution_count": null,
   "metadata": {},
   "outputs": [],
   "source": [
    "df.to_csv('../../../../data/2.synthetic_data_generation/generation1/generation1_all_render.csv', index=False)"
   ]
  },
  {
   "cell_type": "code",
   "execution_count": null,
   "metadata": {},
   "outputs": [],
   "source": []
  }
 ],
 "metadata": {
  "kernelspec": {
   "display_name": "Python 3 (ipykernel)",
   "language": "python",
   "name": "python3"
  },
  "language_info": {
   "codemirror_mode": {
    "name": "ipython",
    "version": 3
   },
   "file_extension": ".py",
   "mimetype": "text/x-python",
   "name": "python",
   "nbconvert_exporter": "python",
   "pygments_lexer": "ipython3",
   "version": "3.11.10"
  }
 },
 "nbformat": 4,
 "nbformat_minor": 2
}
