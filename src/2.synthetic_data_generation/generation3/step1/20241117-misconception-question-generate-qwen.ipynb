{
 "cells": [
  {
   "cell_type": "code",
   "execution_count": 1,
   "metadata": {},
   "outputs": [
    {
     "name": "stderr",
     "output_type": "stream",
     "text": [
      "2024-11-18 11:59:19.080141: E external/local_xla/xla/stream_executor/cuda/cuda_fft.cc:477] Unable to register cuFFT factory: Attempting to register factory for plugin cuFFT when one has already been registered\n",
      "WARNING: All log messages before absl::InitializeLog() is called are written to STDERR\n",
      "E0000 00:00:1731898759.098048 2169695 cuda_dnn.cc:8310] Unable to register cuDNN factory: Attempting to register factory for plugin cuDNN when one has already been registered\n",
      "E0000 00:00:1731898759.103752 2169695 cuda_blas.cc:1418] Unable to register cuBLAS factory: Attempting to register factory for plugin cuBLAS when one has already been registered\n",
      "2024-11-18 11:59:19.148853: I tensorflow/core/platform/cpu_feature_guard.cc:210] This TensorFlow binary is optimized to use available CPU instructions in performance-critical operations.\n",
      "To enable the following instructions: AVX2 FMA, in other operations, rebuild TensorFlow with the appropriate compiler flags.\n",
      "/home/rihankoo/.local/lib/python3.11/site-packages/vllm/connections.py:8: RuntimeWarning: Failed to read commit hash:\n",
      "No module named 'vllm._version'\n",
      "  from vllm.version import __version__ as VLLM_VERSION\n"
     ]
    }
   ],
   "source": [
    "import pandas as pd\n",
    "import torch\n",
    "import numpy as np\n",
    "from vllm import LLM, SamplingParams\n",
    "from tqdm.auto import tqdm\n",
    "import random\n",
    "import os"
   ]
  },
  {
   "cell_type": "code",
   "execution_count": 2,
   "metadata": {},
   "outputs": [
    {
     "name": "stdout",
     "output_type": "stream",
     "text": [
      "> SEEDING DONE\n"
     ]
    }
   ],
   "source": [
    "seed = 9003\n",
    "# seed = 20241027\n",
    "# seed = 20240617\n",
    "# seed = 355643\n",
    "\n",
    "def set_seed(seed = 42):\n",
    "    '''Sets the seed of the entire notebook so results are the same every time we run.\n",
    "    This is for REPRODUCIBILITY.'''\n",
    "    np.random.seed(seed)\n",
    "    random.seed(seed)\n",
    "    torch.manual_seed(seed)\n",
    "    torch.cuda.manual_seed(seed)\n",
    "    # When running on the CuDNN backend, two further options must be set\n",
    "    torch.backends.cudnn.deterministic = True\n",
    "    torch.backends.cudnn.benchmark = False\n",
    "    # Set a fixed value for the hash seed\n",
    "    os.environ['PYTHONHASHSEED'] = str(seed)\n",
    "    print('> SEEDING DONE')\n",
    "\n",
    "set_seed(seed)"
   ]
  },
  {
   "cell_type": "code",
   "execution_count": 3,
   "metadata": {},
   "outputs": [],
   "source": [
    "question_nums = 20"
   ]
  },
  {
   "cell_type": "code",
   "execution_count": 3,
   "metadata": {},
   "outputs": [],
   "source": [
    "MODEL_NAME = \"Qwen/Qwen2.5-72B-Instruct-AWQ\"\n",
    "NUM_GPU = torch.cuda.device_count()\n",
    "few_shot = 3"
   ]
  },
  {
   "cell_type": "code",
   "execution_count": 4,
   "metadata": {},
   "outputs": [
    {
     "data": {
      "application/vnd.jupyter.widget-view+json": {
       "model_id": "4838c5f56370463a9e8766df6e9d899a",
       "version_major": 2,
       "version_minor": 0
      },
      "text/plain": [
       "config.json:   0%|          | 0.00/841 [00:00<?, ?B/s]"
      ]
     },
     "metadata": {},
     "output_type": "display_data"
    },
    {
     "name": "stdout",
     "output_type": "stream",
     "text": [
      "INFO 11-14 14:19:05 awq_marlin.py:97] The model is convertible to awq_marlin during runtime. Using awq_marlin kernel.\n",
      "WARNING 11-14 14:19:05 config.py:380] To see benefits of async output processing, enable CUDA graph. Since, enforce-eager is enabled, async output processor cannot be used\n",
      "INFO 11-14 14:19:05 llm_engine.py:237] Initializing an LLM engine (vdev) with config: model='Qwen/Qwen2.5-72B-Instruct-AWQ', speculative_config=None, tokenizer='Qwen/Qwen2.5-72B-Instruct-AWQ', skip_tokenizer_init=False, tokenizer_mode=auto, revision=None, override_neuron_config=None, rope_scaling=None, rope_theta=None, tokenizer_revision=None, trust_remote_code=True, dtype=torch.float16, max_seq_len=8192, download_dir=None, load_format=LoadFormat.AUTO, tensor_parallel_size=1, pipeline_parallel_size=1, disable_custom_all_reduce=False, quantization=awq_marlin, enforce_eager=True, kv_cache_dtype=auto, quantization_param_path=None, device_config=cuda, decoding_config=DecodingConfig(guided_decoding_backend='outlines'), observability_config=ObservabilityConfig(otlp_traces_endpoint=None, collect_model_forward_time=False, collect_model_execute_time=False), seed=0, served_model_name=Qwen/Qwen2.5-72B-Instruct-AWQ, use_v2_block_manager=True, num_scheduler_steps=1, chunked_prefill_enabled=False multi_step_stream_outputs=True, enable_prefix_caching=False, use_async_output_proc=False, use_cached_outputs=False, mm_processor_kwargs=None)\n"
     ]
    },
    {
     "data": {
      "application/vnd.jupyter.widget-view+json": {
       "model_id": "aa7a0a13044f4d66a6062d0b721093cc",
       "version_major": 2,
       "version_minor": 0
      },
      "text/plain": [
       "tokenizer_config.json:   0%|          | 0.00/7.30k [00:00<?, ?B/s]"
      ]
     },
     "metadata": {},
     "output_type": "display_data"
    },
    {
     "data": {
      "application/vnd.jupyter.widget-view+json": {
       "model_id": "58ab0bae25c64cf1b4a1919dd7948760",
       "version_major": 2,
       "version_minor": 0
      },
      "text/plain": [
       "vocab.json:   0%|          | 0.00/2.78M [00:00<?, ?B/s]"
      ]
     },
     "metadata": {},
     "output_type": "display_data"
    },
    {
     "data": {
      "application/vnd.jupyter.widget-view+json": {
       "model_id": "22a749dbb1ad41f4ad4963be85eaeb78",
       "version_major": 2,
       "version_minor": 0
      },
      "text/plain": [
       "merges.txt:   0%|          | 0.00/1.67M [00:00<?, ?B/s]"
      ]
     },
     "metadata": {},
     "output_type": "display_data"
    },
    {
     "data": {
      "application/vnd.jupyter.widget-view+json": {
       "model_id": "1eadb8980ac24e74a0b2a17e004bfee1",
       "version_major": 2,
       "version_minor": 0
      },
      "text/plain": [
       "tokenizer.json:   0%|          | 0.00/7.03M [00:00<?, ?B/s]"
      ]
     },
     "metadata": {},
     "output_type": "display_data"
    },
    {
     "data": {
      "application/vnd.jupyter.widget-view+json": {
       "model_id": "57c8830e1cf04d239eecef4c9aaf68e4",
       "version_major": 2,
       "version_minor": 0
      },
      "text/plain": [
       "generation_config.json:   0%|          | 0.00/243 [00:00<?, ?B/s]"
      ]
     },
     "metadata": {},
     "output_type": "display_data"
    },
    {
     "name": "stdout",
     "output_type": "stream",
     "text": [
      "INFO 11-14 14:19:10 model_runner.py:1060] Starting to load model Qwen/Qwen2.5-72B-Instruct-AWQ...\n",
      "INFO 11-14 14:19:10 weight_utils.py:243] Using model weights format ['*.safetensors']\n"
     ]
    },
    {
     "data": {
      "application/vnd.jupyter.widget-view+json": {
       "model_id": "28b905073de845529908ef962150dc2c",
       "version_major": 2,
       "version_minor": 0
      },
      "text/plain": [
       "model-00002-of-00011.safetensors:   0%|          | 0.00/3.91G [00:00<?, ?B/s]"
      ]
     },
     "metadata": {},
     "output_type": "display_data"
    },
    {
     "data": {
      "application/vnd.jupyter.widget-view+json": {
       "model_id": "24bc2a0bd8b54bd0949186251112f12a",
       "version_major": 2,
       "version_minor": 0
      },
      "text/plain": [
       "model-00004-of-00011.safetensors:   0%|          | 0.00/3.99G [00:00<?, ?B/s]"
      ]
     },
     "metadata": {},
     "output_type": "display_data"
    },
    {
     "data": {
      "application/vnd.jupyter.widget-view+json": {
       "model_id": "10ce5340ed99420aa70e59cd6ea54618",
       "version_major": 2,
       "version_minor": 0
      },
      "text/plain": [
       "model-00005-of-00011.safetensors:   0%|          | 0.00/3.91G [00:00<?, ?B/s]"
      ]
     },
     "metadata": {},
     "output_type": "display_data"
    },
    {
     "data": {
      "application/vnd.jupyter.widget-view+json": {
       "model_id": "a3e5f076e8594d17ab696ae2b111a008",
       "version_major": 2,
       "version_minor": 0
      },
      "text/plain": [
       "model-00007-of-00011.safetensors:   0%|          | 0.00/3.99G [00:00<?, ?B/s]"
      ]
     },
     "metadata": {},
     "output_type": "display_data"
    },
    {
     "data": {
      "application/vnd.jupyter.widget-view+json": {
       "model_id": "2dd2e0f4174746a7bfee1bd967c6707e",
       "version_major": 2,
       "version_minor": 0
      },
      "text/plain": [
       "model-00001-of-00011.safetensors:   0%|          | 0.00/3.94G [00:00<?, ?B/s]"
      ]
     },
     "metadata": {},
     "output_type": "display_data"
    },
    {
     "data": {
      "application/vnd.jupyter.widget-view+json": {
       "model_id": "c70417ad932a442a90db2df77db54ff1",
       "version_major": 2,
       "version_minor": 0
      },
      "text/plain": [
       "model-00008-of-00011.safetensors:   0%|          | 0.00/3.91G [00:00<?, ?B/s]"
      ]
     },
     "metadata": {},
     "output_type": "display_data"
    },
    {
     "data": {
      "application/vnd.jupyter.widget-view+json": {
       "model_id": "d975fbd92ee14aa795c5e3872136db77",
       "version_major": 2,
       "version_minor": 0
      },
      "text/plain": [
       "model-00003-of-00011.safetensors:   0%|          | 0.00/3.99G [00:00<?, ?B/s]"
      ]
     },
     "metadata": {},
     "output_type": "display_data"
    },
    {
     "data": {
      "application/vnd.jupyter.widget-view+json": {
       "model_id": "e12712e2c84c4dd8aa218a82ec1ebb0a",
       "version_major": 2,
       "version_minor": 0
      },
      "text/plain": [
       "model-00006-of-00011.safetensors:   0%|          | 0.00/3.99G [00:00<?, ?B/s]"
      ]
     },
     "metadata": {},
     "output_type": "display_data"
    },
    {
     "data": {
      "application/vnd.jupyter.widget-view+json": {
       "model_id": "c1c41a52b9854f279879716f3032a3f8",
       "version_major": 2,
       "version_minor": 0
      },
      "text/plain": [
       "model-00009-of-00011.safetensors:   0%|          | 0.00/3.99G [00:00<?, ?B/s]"
      ]
     },
     "metadata": {},
     "output_type": "display_data"
    },
    {
     "data": {
      "application/vnd.jupyter.widget-view+json": {
       "model_id": "5ab287e27b7f4221acab6487fa424278",
       "version_major": 2,
       "version_minor": 0
      },
      "text/plain": [
       "model-00010-of-00011.safetensors:   0%|          | 0.00/3.46G [00:00<?, ?B/s]"
      ]
     },
     "metadata": {},
     "output_type": "display_data"
    },
    {
     "data": {
      "application/vnd.jupyter.widget-view+json": {
       "model_id": "f567ffc570cb43618626cf9cbae8c430",
       "version_major": 2,
       "version_minor": 0
      },
      "text/plain": [
       "model-00011-of-00011.safetensors:   0%|          | 0.00/2.49G [00:00<?, ?B/s]"
      ]
     },
     "metadata": {},
     "output_type": "display_data"
    },
    {
     "data": {
      "application/vnd.jupyter.widget-view+json": {
       "model_id": "f768ab4229f94cebb7416bbfbf274db0",
       "version_major": 2,
       "version_minor": 0
      },
      "text/plain": [
       "model.safetensors.index.json:   0%|          | 0.00/179k [00:00<?, ?B/s]"
      ]
     },
     "metadata": {},
     "output_type": "display_data"
    },
    {
     "data": {
      "application/vnd.jupyter.widget-view+json": {
       "model_id": "7a4133f3582f425b9909836cb15bf97c",
       "version_major": 2,
       "version_minor": 0
      },
      "text/plain": [
       "Loading safetensors checkpoint shards:   0% Completed | 0/11 [00:00<?, ?it/s]\n"
      ]
     },
     "metadata": {},
     "output_type": "display_data"
    },
    {
     "name": "stdout",
     "output_type": "stream",
     "text": [
      "INFO 11-14 14:23:28 model_runner.py:1071] Loading model weights took 38.7697 GB\n",
      "INFO 11-14 14:23:34 gpu_executor.py:122] # GPU blocks: 6846, # CPU blocks: 819\n",
      "INFO 11-14 14:23:34 gpu_executor.py:126] Maximum concurrency for 8192 tokens per request: 13.37x\n"
     ]
    }
   ],
   "source": [
    "llm = LLM(\n",
    "    MODEL_NAME,\n",
    "    tensor_parallel_size=NUM_GPU,\n",
    "    gpu_memory_utilization=0.95,\n",
    "    trust_remote_code=True,\n",
    "    dtype=\"half\",\n",
    "    enforce_eager=True,\n",
    "    max_model_len=4096 * 3,\n",
    "    disable_log_stats=True,\n",
    "    max_num_seqs=256,\n",
    ")\n",
    "tokenizer = llm.get_tokenizer()\n",
    "\n",
    "sampling_params = SamplingParams(\n",
    "    n=1,  # Number of output sequences to return for each prompt.\n",
    "    top_p=0.7,  # Float that controls the cumulative probability of the top tokens to consider.\n",
    "    temperature=1.0,  # randomness of the sampling\n",
    "    seed=seed,  # Seed for reprodicibility\n",
    "    skip_special_tokens=True,  # Whether to skip special tokens in the output.\n",
    "    max_tokens=4096  # Maximum number of tokens to generate per output sequence.\n",
    ")"
   ]
  },
  {
   "cell_type": "code",
   "execution_count": 1,
   "metadata": {},
   "outputs": [
    {
     "data": {
      "text/html": [
       "<div>\n",
       "<style scoped>\n",
       "    .dataframe tbody tr th:only-of-type {\n",
       "        vertical-align: middle;\n",
       "    }\n",
       "\n",
       "    .dataframe tbody tr th {\n",
       "        vertical-align: top;\n",
       "    }\n",
       "\n",
       "    .dataframe thead th {\n",
       "        text-align: right;\n",
       "    }\n",
       "</style>\n",
       "<table border=\"1\" class=\"dataframe\">\n",
       "  <thead>\n",
       "    <tr style=\"text-align: right;\">\n",
       "      <th></th>\n",
       "      <th>MisconceptionId</th>\n",
       "      <th>MisconceptionName</th>\n",
       "    </tr>\n",
       "  </thead>\n",
       "  <tbody>\n",
       "    <tr>\n",
       "      <th>0</th>\n",
       "      <td>0</td>\n",
       "      <td>Does not know that angles in a triangle sum to...</td>\n",
       "    </tr>\n",
       "    <tr>\n",
       "      <th>1</th>\n",
       "      <td>1</td>\n",
       "      <td>Uses dividing fractions method for multiplying...</td>\n",
       "    </tr>\n",
       "    <tr>\n",
       "      <th>2</th>\n",
       "      <td>2</td>\n",
       "      <td>Believes there are 100 degrees in a full turn</td>\n",
       "    </tr>\n",
       "    <tr>\n",
       "      <th>3</th>\n",
       "      <td>3</td>\n",
       "      <td>Thinks a quadratic without a non variable term...</td>\n",
       "    </tr>\n",
       "    <tr>\n",
       "      <th>4</th>\n",
       "      <td>4</td>\n",
       "      <td>Believes addition of terms and powers of terms...</td>\n",
       "    </tr>\n",
       "    <tr>\n",
       "      <th>...</th>\n",
       "      <td>...</td>\n",
       "      <td>...</td>\n",
       "    </tr>\n",
       "    <tr>\n",
       "      <th>2582</th>\n",
       "      <td>2582</td>\n",
       "      <td>When multiplying numbers with the same base, m...</td>\n",
       "    </tr>\n",
       "    <tr>\n",
       "      <th>2583</th>\n",
       "      <td>2583</td>\n",
       "      <td>Does not know what a cube number is</td>\n",
       "    </tr>\n",
       "    <tr>\n",
       "      <th>2584</th>\n",
       "      <td>2584</td>\n",
       "      <td>Believes that any percentage of a larger numbe...</td>\n",
       "    </tr>\n",
       "    <tr>\n",
       "      <th>2585</th>\n",
       "      <td>2585</td>\n",
       "      <td>Believes a cubic expression should have three ...</td>\n",
       "    </tr>\n",
       "    <tr>\n",
       "      <th>2586</th>\n",
       "      <td>2586</td>\n",
       "      <td>Misunderstands order of operations in algebrai...</td>\n",
       "    </tr>\n",
       "  </tbody>\n",
       "</table>\n",
       "<p>2587 rows × 2 columns</p>\n",
       "</div>"
      ],
      "text/plain": [
       "      MisconceptionId                                  MisconceptionName\n",
       "0                   0  Does not know that angles in a triangle sum to...\n",
       "1                   1  Uses dividing fractions method for multiplying...\n",
       "2                   2      Believes there are 100 degrees in a full turn\n",
       "3                   3  Thinks a quadratic without a non variable term...\n",
       "4                   4  Believes addition of terms and powers of terms...\n",
       "...               ...                                                ...\n",
       "2582             2582  When multiplying numbers with the same base, m...\n",
       "2583             2583                Does not know what a cube number is\n",
       "2584             2584  Believes that any percentage of a larger numbe...\n",
       "2585             2585  Believes a cubic expression should have three ...\n",
       "2586             2586  Misunderstands order of operations in algebrai...\n",
       "\n",
       "[2587 rows x 2 columns]"
      ]
     },
     "execution_count": 1,
     "metadata": {},
     "output_type": "execute_result"
    }
   ],
   "source": [
    "import pandas as pd\n",
    "df = pd.read_csv('../../../../data/raw/misconception_mapping.csv')\n",
    "df"
   ]
  },
  {
   "cell_type": "code",
   "execution_count": null,
   "metadata": {},
   "outputs": [],
   "source": [
    "df1 = pd.read_csv('../../../../data/1.chain_of_thought/train.csv')\n",
    "df1['quality-gpt4o-mini'] = 5\n",
    "df2 = pd.read_csv('../../../../data/2.synthetic_data_generation/generation2/generation2_all_render.csv')\n",
    "df3 = pd.read_csv('../../../../data/2.synthetic_data_generation/generation1/generation1_all_render.csv')\n"
   ]
  },
  {
   "cell_type": "code",
   "execution_count": null,
   "metadata": {},
   "outputs": [],
   "source": [
    "df_base = pd.concat([df1, df2], axis=0).reset_index(drop=True)\n",
    "df_sup = pd.concat([df3], axis=0).reset_index(drop=True)"
   ]
  },
  {
   "cell_type": "code",
   "execution_count": 7,
   "metadata": {},
   "outputs": [
    {
     "data": {
      "text/plain": [
       "(82217, 52919)"
      ]
     },
     "execution_count": 7,
     "metadata": {},
     "output_type": "execute_result"
    }
   ],
   "source": [
    "len(df_base), len(df_sup)"
   ]
  },
  {
   "cell_type": "code",
   "execution_count": 8,
   "metadata": {},
   "outputs": [
    {
     "data": {
      "text/plain": [
       "MisconceptionId\n",
       "1214.0    84\n",
       "2316.0    79\n",
       "1379.0    77\n",
       "1880.0    71\n",
       "1990.0    68\n",
       "          ..\n",
       "1391.0     3\n",
       "1534.0     3\n",
       "343.0      2\n",
       "2182.0     1\n",
       "2224.0     1\n",
       "Name: count, Length: 2586, dtype: int64"
      ]
     },
     "execution_count": 8,
     "metadata": {},
     "output_type": "execute_result"
    }
   ],
   "source": [
    "df_base['MisconceptionId'].value_counts()"
   ]
  },
  {
   "cell_type": "code",
   "execution_count": 9,
   "metadata": {},
   "outputs": [
    {
     "data": {
      "text/plain": [
       "MisconceptionId\n",
       "0       21\n",
       "1400    21\n",
       "1540    21\n",
       "1539    21\n",
       "1531    21\n",
       "        ..\n",
       "1103    17\n",
       "101     17\n",
       "2026    17\n",
       "1905    17\n",
       "2567    16\n",
       "Name: count, Length: 2587, dtype: int64"
      ]
     },
     "execution_count": 9,
     "metadata": {},
     "output_type": "execute_result"
    }
   ],
   "source": [
    "df_sup['MisconceptionId'].value_counts()"
   ]
  },
  {
   "cell_type": "code",
   "execution_count": 10,
   "metadata": {},
   "outputs": [],
   "source": [
    "quality_thre = 2\n",
    "df_base = df_base[df_base['quality-gpt4o-mini'] >= quality_thre].reset_index(drop=True)\n",
    "df_sup = df_sup[df_sup['quality-gpt4o-mini'] >= quality_thre].reset_index(drop=True)"
   ]
  },
  {
   "cell_type": "code",
   "execution_count": 11,
   "metadata": {},
   "outputs": [
    {
     "data": {
      "text/plain": [
       "MisconceptionId\n",
       "2316.0    74\n",
       "1214.0    72\n",
       "1379.0    69\n",
       "1507.0    66\n",
       "1880.0    65\n",
       "          ..\n",
       "1391.0     2\n",
       "2182.0     1\n",
       "2150.0     1\n",
       "1001.0     1\n",
       "928.0      1\n",
       "Name: count, Length: 2585, dtype: int64"
      ]
     },
     "execution_count": 11,
     "metadata": {},
     "output_type": "execute_result"
    }
   ],
   "source": [
    "df_base['MisconceptionId'].value_counts()"
   ]
  },
  {
   "cell_type": "code",
   "execution_count": 12,
   "metadata": {},
   "outputs": [
    {
     "data": {
      "text/plain": [
       "MisconceptionId\n",
       "995     21\n",
       "81      21\n",
       "160     21\n",
       "2121    21\n",
       "864     21\n",
       "        ..\n",
       "2132     3\n",
       "1080     3\n",
       "1954     2\n",
       "277      2\n",
       "205      2\n",
       "Name: count, Length: 2587, dtype: int64"
      ]
     },
     "execution_count": 12,
     "metadata": {},
     "output_type": "execute_result"
    }
   ],
   "source": [
    "df_sup['MisconceptionId'].value_counts()"
   ]
  },
  {
   "cell_type": "code",
   "execution_count": 13,
   "metadata": {},
   "outputs": [],
   "source": [
    "ak = df_base['MisconceptionId'].value_counts()\n",
    "bk = df_sup['MisconceptionId'].value_counts()\n",
    "\n",
    "ck = {}\n",
    "for mis_id in df['MisconceptionId']:\n",
    "    count = 0\n",
    "    if mis_id in ak:\n",
    "        count += ak[mis_id]\n",
    "    if mis_id in bk:\n",
    "        count += bk[mis_id]\n",
    "    ck[mis_id] = count\n",
    "\n",
    "for mis_id in ck:\n",
    "    if ck[mis_id] < 2:\n",
    "        print(mis_id, ck[mis_id])"
   ]
  },
  {
   "cell_type": "code",
   "execution_count": 14,
   "metadata": {},
   "outputs": [],
   "source": [
    "base_misconception_dfs = {}\n",
    "for mis_id, df_slice in df_base.groupby('MisconceptionId'):\n",
    "    base_misconception_dfs[mis_id] = df_slice.reset_index(drop=True)\n",
    "\n",
    "sup_misconception_dfs = {}\n",
    "for mis_id, df_slice in df_sup.groupby('MisconceptionId'):\n",
    "    sup_misconception_dfs[mis_id] = df_slice.reset_index(drop=True)"
   ]
  },
  {
   "cell_type": "code",
   "execution_count": 15,
   "metadata": {},
   "outputs": [],
   "source": [
    "system_prompt_template = '''You are an excellent math teacher about to teach students of year group 1 to 14. You will be provided a misconception that your students may have. Your goal is to write a diagnostic question that can help you identify the misconception. You will be given two math questions, Base Question and Supplementary Question. Please create a new and more challenging question based on the given Questions and following instructions.\n",
    "To achieve the goal, you have four jobs.\n",
    "# Add one more step to the Base Question to make it more difficult and Create a new question.\n",
    "# Changing the proper nouns, numerical values, fractions, multiples and problem background by getting inspiration from the Supplementary Question for generating a new question.\n",
    "# Check the question step-by-step to find out if it adheres to all principles.\n",
    "# Modify the created question according to your checking comment to ensure it is of high quality.\n",
    "\n",
    "You have five principles to do this.\n",
    "# The question MUST NOT be just asking mathematical concepts, please provide specific context.\n",
    "# The question must have a single correct answer, please DO NOT ask open questions.\n",
    "# The question must be useful to identify the misconception, meaning that there is a potential wrong answer relevant to the given misconception.\n",
    "# Please DO NOT include solution in your question.\n",
    "# Please generate only one question. The question should be in format of \"Subject: <subject>. Topic: <topic>. Subtopic: <subtopic>. Construct: <construct>. Question: <question>\"'''\n",
    "\n",
    "user_prompt_template ='''Misconception: {misconception}\n",
    "Base Question: Subject: {base_first_subject}. Topic: {base_second_subject}. Subtopic: {base_third_subject}. Construct: {base_construct}. Question:{base_question}\n",
    "Supplementary Question: Subject: {sup_first_subject}. Topic: {sup_second_subject}. Subtopic: {sup_third_subject}. Construct: {sup_construct}. Question:{sup_question}\n",
    "\n",
    "Your output should be in the following format:\n",
    "\n",
    "CREATED QUESTION: Subject: <your created subject>. Topic: <your created topic>. Subtopic: <your created subtopic>. Construct: <your created construct>. Question: <your created question>\n",
    "\n",
    "VERIFICATION AND MODIFICATION: <check the question step-by-step and modify it to follow all principles>\n",
    "\n",
    "FINAL CREATED QUESTION: Subject: <your final created subject>. Topic: <your final created topic>. Subtopic: <your final created subtopic>. Construct: <your final created construct>. Question: <your final created question>\n",
    "'''"
   ]
  },
  {
   "cell_type": "code",
   "execution_count": 10,
   "metadata": {},
   "outputs": [
    {
     "name": "stdout",
     "output_type": "stream",
     "text": [
      "<|im_start|>system\n",
      "You are an excellent math teacher about to teach students of year group 1 to 14. You will be provided a misconception that your students may have. Your task is to write diagnostic questions that can help you identify the misconception. The question should not be just asking mathematical concepts, so please provide specific context. The question must have a single correct answer, so please do not ask open questions. Only write the question. No need to provide explanation for correct answer. Each question should be in format of \"Topic: {subject}. Question: {question}.\"<|im_end|>\n",
      "<|im_start|>user\n",
      "Here are some examples:\n",
      "example1: \n",
      "Misconception: Believes midpoint multiplied by frequency is equivalent to frequency density\n",
      "Topic: Data Representation-Others. Question: A survey of favorite sports was conducted among 50 students, with the following results: Football (15), Basketball (20), Tennis (10), Swimming (5). If the class width for the sport 'Football' in a histogram is 3, what is the frequency density for 'Football'?.\n",
      "\n",
      "example2: \n",
      "Misconception: Believes midpoint multiplied by frequency is equivalent to frequency density\n",
      "Topic: Data Representation-Others. Question: A frequency table shows the number of hours spent watching TV per week. If 12 students watched TV for 5-9 hours, and the class width is 4, what is the frequency density for this class?.\n",
      "\n",
      "example3: \n",
      "Misconception: Believes midpoint multiplied by frequency is equivalent to frequency density\n",
      "Topic: Histogram. Question: A histogram shows the distribution of exam scores with a class width of 10. If 25 students scored between 60-69, what is the frequency density for this class?..\n",
      "Here are all of the topics of your lesson: 1. BIDMAS\n",
      "2. Basic Arithmetic-Others\n",
      "3. Combining Operations\n",
      "4. Counting\n",
      "5. Mental Addition and Subtraction\n",
      "6. Mental Multiplication and Division\n",
      "7. Place Value\n",
      "8. Roman Numerals\n",
      "9. Systematic Listing Strategies\n",
      "10. Written Addition\n",
      "11. Written Division\n",
      "12. Written Multiplication\n",
      "13. Written Subtraction\n",
      "14. Advanced Calculator Use\n",
      "15. Basic Calculator Use\n",
      "16. Calculator Use-Others\n",
      "17. Adding and Subtracting with Decimals\n",
      "18. Decimals-Others\n",
      "19. Mixed operation Decimals\n",
      "20. Multiplying and Dividing with Decimals\n",
      "21. Ordering Decimals\n",
      "22. Factors and Highest Common Factor\n",
      "23. Factors, Multiples and Primes-Others\n",
      "24. Multiples and Lowest Common Multiple\n",
      "25. Prime Numbers and Prime Factors\n",
      "26. Adding and Subtracting Fractions\n",
      "27. Converting Mixed Number and Improper Fractions\n",
      "28. Dividing Fractions\n",
      "29. Equivalent Fractions\n",
      "30. Fractional Change\n",
      "31. Fractions of an Amount\n",
      "32. Fractions-Others\n",
      "33. Mixed operation Fractions\n",
      "34. Multiplying Fractions\n",
      "35. Ordering Fractions\n",
      "36. Simplifying Fractions\n",
      "37. Converting between Decimals and Percentages\n",
      "38. Converting between Fractions and Decimals\n",
      "39. Converting between Fractions and Percentages\n",
      "40. Fractions, Decimals and Percentage Equivalence-Others\n",
      "41. Recurring Decimals to Fractions\n",
      "42. Indices, Powers and Roots-Others\n",
      "43. Laws of Indices\n",
      "44. Square Roots, Cube Roots, etc\n",
      "45. Squares, Cubes, etc\n",
      "46. Standard Form\n",
      "47. Basic Money\n",
      "48. Currency Conversions\n",
      "49. Money-Others\n",
      "50. Adding and Subtracting Negative Numbers\n",
      "51. Mixed operation Negative Numbers\n",
      "52. Multiplying and Dividing Negative Numbers\n",
      "53. Negative Numbers-Others\n",
      "54. Ordering Negative Numbers\n",
      "55. Percentage Increase and Decrease\n",
      "56. Percentages of an Amount\n",
      "57. Percentages-Others\n",
      "58. Repeated Percentages and Compound Interest\n",
      "59. Reverse Percentages (Original Amount)\n",
      "60. Direct Proportion\n",
      "61. Indirect (Inverse) Proportion\n",
      "62. Proportion-Others\n",
      "63. Best Value\n",
      "64. Find Missing Quantities\n",
      "65. Ratio-Others\n",
      "66. Scale Drawing and Maps\n",
      "67. Sharing in a Ratio\n",
      "68. Simplifying and Equivalent Ratios\n",
      "69. Writing Ratios\n",
      "70. Estimation\n",
      "71. Rounding and Estimating-Others\n",
      "72. Rounding to Decimal Places\n",
      "73. Rounding to Significant Figures\n",
      "74. Rounding to the Nearest Whole (10, 100, etc)\n",
      "75. Upper and Lower Bounds\n",
      "76. Operations with Surds\n",
      "77. Rationalising the Denominator\n",
      "78. Simplifying Surds\n",
      "79. Surds-Others\n",
      "80. Adding and Subtracting Algebraic Fractions\n",
      "81. Algebraic Fractions-Others\n",
      "82. Multiplying and Dividing Algebraic Fractions\n",
      "83. Simplifying Algebraic Fractions\n",
      "84. Solving Equations with Algebraic Fractions\n",
      "85. Co-ordinates-Others\n",
      "86. Distance Between Two Co-ordinates\n",
      "87. Gradient Between Two Co-ordinates\n",
      "88. Midpoint Between Two Co-ordinates\n",
      "89. Naming Co-ordinates in 2D\n",
      "90. Naming Co-ordinates in 3D\n",
      "91. Expanding Brackets-Others\n",
      "92. Expanding Double Brackets\n",
      "93. Expanding Single Brackets\n",
      "94. Expanding Triple Brackets and more\n",
      "95. Completing the Square\n",
      "96. Difference of Two Squares\n",
      "97. Factorising into a Double Bracket\n",
      "98. Factorising into a Single Bracket\n",
      "99. Factorising-Others\n",
      "100. Formula-Others\n",
      "101. Rearranging Formula and Equations\n",
      "102. Substitution into Formula\n",
      "103. Writing Formula\n",
      "104. Graphing Linear Inequalities (Shading Regions)\n",
      "105. Inequalities on Number Lines\n",
      "106. Inequalities-Others\n",
      "107. Quadratic inequalities on Number Lines\n",
      "108. Solving Linear Inequalities\n",
      "109. Solving Quadratic Inequalities\n",
      "110. Cubics and Reciprocals\n",
      "111. Equation of a Circle\n",
      "112. Graphs of Exponentials and Other Powers of x\n",
      "113. Graphs of Trigonometric Functions\n",
      "114. Other Graphs-Others\n",
      "115. Real Life Graphs\n",
      "116. Graphical Solution of Quadratic Equations\n",
      "117. Plotting Quadratics from Tables of Values\n",
      "118. Quadratic Graphs-Others\n",
      "119. Relating Quadratic Graphs to the Discriminant\n",
      "120. Sketching from Completing the Square Form\n",
      "121. Sketching from Factorised Form\n",
      "122. Linear Sequences (nth term)\n",
      "123. Other Sequences\n",
      "124. Quadratic Sequences\n",
      "125. Sequences-Others\n",
      "126. Function Machines\n",
      "127. Linear Equations\n",
      "128. Quadratic Equations\n",
      "129. Simultaneous Equations\n",
      "130. Solving Equations-Others\n",
      "131. Solving Other Powers of x\n",
      "132. Solving Trigonometric Equations\n",
      "133. Trial and Improvement and Iterative Methods\n",
      "134. Co-ordinate Geometry with Straight Lines\n",
      "135. Drawing Axes\n",
      "136. Finding the Equation of a Line\n",
      "137. Finding the Gradient and Intercept of a Line from the Equation\n",
      "138. Gradient as change in y over change in x\n",
      "139. Graphical Solution of Simultaneous Equations\n",
      "140. Horizontal and Vertical Lines\n",
      "141. Parallel Lines\n",
      "142. Perpendicular Lines\n",
      "143. Plotting Lines from Tables of Values\n",
      "144. Straight Line Graphs-Others\n",
      "145. Transformation of Functions-Others\n",
      "146. Transformations of functions in the form f(x)\n",
      "147. Transformations of functions in the form y =\n",
      "148. Algebraic Proof\n",
      "149. Dividing Terms\n",
      "150. Multiplying Terms\n",
      "151. Simplifying Expressions by Collecting Like Terms\n",
      "152. Writing Expressions\n",
      "153. Writing and Simplifying Expressions-Others\n",
      "154. Data Collection-Others\n",
      "155. Frequency tables\n",
      "156. Tally Charts\n",
      "157. Types of Data and Questionnaires\n",
      "158. Averages (mean, median, mode) from a List of Data\n",
      "159. Averages and Range from Frequency Table\n",
      "160. Averages and Range from Grouped Data\n",
      "161. Data Processing-Others\n",
      "162. Interpreting and Comparing Data using Averages and Range\n",
      "163. Range and Interquartile Range from a List of Data\n",
      "164. Sampling and Bias\n",
      "165. Block Graphs and Bar Charts\n",
      "166. Box Plots\n",
      "167. Cumulative Frequency Diagram\n",
      "168. Data Representation-Others\n",
      "169. Frequency Diagram and Frequency Polygon\n",
      "170. Frequency Trees\n",
      "171. Histogram\n",
      "172. Pictogram\n",
      "173. Pie Chart\n",
      "174. Scatter Diagram\n",
      "175. Stem and Leaf Diagram\n",
      "176. Time Series and Line Graphs\n",
      "177. Two Way Tables\n",
      "178. Venn Diagrams\n",
      "179. Combined Events\n",
      "180. Experimental Probability and Relative Frequency\n",
      "181. Probability of Single Events\n",
      "182. Probability with Venn Diagrams\n",
      "183. Probability-Others\n",
      "184. Tree Diagrams with Dependent Events\n",
      "185. Tree Diagrams with Independent Events\n",
      "186. Using the Conditional Probability Formula\n",
      "187. Using the Probability Addition Formula\n",
      "188. 2D Names and Properties of Shapes-Others\n",
      "189. Labelling Shapes\n",
      "190. Properties of Polygons\n",
      "191. Properties of Quadrilaterals\n",
      "192. Properties of Triangles\n",
      "193. Sorting Shapes\n",
      "194. 3D Shapes-Others\n",
      "195. Isometric Drawings\n",
      "196. Names and Properties of 3D Shapes\n",
      "197. Nets\n",
      "198. Plans and Elevations\n",
      "199. Angle Facts with Parallel Lines\n",
      "200. Angles in Polygons\n",
      "201. Angles in Triangles\n",
      "202. Angles-Others\n",
      "203. Basic Angle Facts (straight line, opposite, around a point, etc)\n",
      "204. Bearings\n",
      "205. Circle Theorems\n",
      "206. Measuring Angles\n",
      "207. Types, Naming and Estimating\n",
      "208. 3D Trigonometry\n",
      "209. Area of Non Right-angled Triangles\n",
      "210. Basic Trigonometry-Others\n",
      "211. Exact Values of Trigonometric Ratios\n",
      "212. Non Right-angled Triangles (Sine and Cosine Rules)\n",
      "213. Right-angled Triangles (SOHCAHTOA)\n",
      "214. Add and Subtract Vectors\n",
      "215. Basic Vectors-Others\n",
      "216. Multiply a vector by a scalar\n",
      "217. Vector Geometry\n",
      "218. Area of a Circle\n",
      "219. Circles-Others\n",
      "220. Circumference\n",
      "221. Parts of a Circle\n",
      "222. Sectors of a Circle\n",
      "223. Compound Measures-Others\n",
      "224. Density\n",
      "225. Pressure\n",
      "226. Speed, Distance, Time\n",
      "227. Construct Angle\n",
      "228. Construct Angle and Line Bisectors\n",
      "229. Construct Triangle\n",
      "230. Construction, Loci and Scale Drawing-Others\n",
      "231. Loci Scenarios\n",
      "232. Area of Simple Shapes\n",
      "233. Compound Area\n",
      "234. Correct units of measurement\n",
      "235. Missing Lengths\n",
      "236. Perimeter\n",
      "237. Perimeter and Area-Others\n",
      "238. 2D Pythagoras\n",
      "239. 3D Pythagoras\n",
      "240. Pythagoras-Others\n",
      "241. Congruency in Other Shapes\n",
      "242. Congruency in Triangles\n",
      "243. Length Scale Factors in Similar Shapes\n",
      "244. Length, Area and Volume Scale Factors\n",
      "245. Similarity and Congruency-Others\n",
      "246. 3D Plane Symmetry\n",
      "247. Line Symmetry\n",
      "248. Rotational Symmetry\n",
      "249. Symmetry-Others\n",
      "250. Combined Transformations\n",
      "251. Enlargement\n",
      "252. Reflection\n",
      "253. Rotation\n",
      "254. Transformations-Others\n",
      "255. Translation and Vectors\n",
      "256. Area Units\n",
      "257. Length Units\n",
      "258. Reading Scales\n",
      "259. Temperature units\n",
      "260. Time\n",
      "261. Units of Measurement-Others\n",
      "262. Volume and Capacity Units\n",
      "263. Weight Units\n",
      "264. Surface Area of Non-Prisms\n",
      "265. Surface Area of Prisms\n",
      "266. Volume and Surface Area-Others\n",
      "267. Volume of Non-Prisms\n",
      "268. Volume of Prisms\n",
      "269. Advanced Algebra-Others\n",
      "270. Algebraic Division\n",
      "271. Algebraic Fractions\n",
      "272. Factor Theorem\n",
      "273. Partial Fractions\n",
      "274. Remainder Theorem\n",
      "275. Advanced Trigonometry-Others\n",
      "276. Basic Trigonometric Identities\n",
      "277. Compound and Double Angle Trigonometric Identities\n",
      "278. Converting and solving with the form acos(x) + bsin(x)\n",
      "279. General Solutions of Trigonometric Equations\n",
      "280. Graphs of Inverse Trigonometric Functions\n",
      "281. Graphs of Reciprocal Trigonometric Functions\n",
      "282. Reciprocal Trigonometric Identities\n",
      "283. Solving Basic Trigonometric Equations\n",
      "284. Solving Trigonometric Equations Using Identities\n",
      "285. Addition and Subtraction of Vectors\n",
      "286. Advanced Vectors-Others\n",
      "287. Position Vectors and Geometrical Applications\n",
      "288. Scalar Product\n",
      "289. Unit Vectors\n",
      "290. Vector Equation of a Line\n",
      "291. Vector Notation\n",
      "292. Vector Product\n",
      "293. Binomial Expansion-Others\n",
      "294. Expanding (a + bx)ⁿ, where n is a negative integer or a fraction\n",
      "295. Expanding (a + bx)ⁿ, where n is a positive integer\n",
      "296. Pascal's Triangle\n",
      "297. Using the nCr Button\n",
      "298. Argand Diagrams\n",
      "299. Complex Conjugates\n",
      "300. Complex Numbers in Polar Form\n",
      "301. Complex Numbers-Others\n",
      "302. Modulus and Argument\n",
      "303. Operations with Complex Numbers\n",
      "304. Polar Co-ordinates\n",
      "305. Roots of Equations with Complex Numbers\n",
      "306. Solving Equations with Complex Numbers\n",
      "307. Conic Sections-Others\n",
      "308. Ellipses\n",
      "309. Hyperbolas\n",
      "310. Parabolas\n",
      "311. Rectangular Hyperbolas\n",
      "312. Basic dy/dx\n",
      "313. Chain Rule\n",
      "314. Co-ordinate Geometry Problems (tangents, normals)\n",
      "315. Differential Equations\n",
      "316. Differentiation Involving Exponentials\n",
      "317. Differentiation Involving Inverse Trigonometric Functions\n",
      "318. Differentiation Involving Logs\n",
      "319. Differentiation Involving Trigonometric Functions\n",
      "320. Differentiation from First Principals\n",
      "321. Differentiation in Context\n",
      "322. Differentiation-Others\n",
      "323. Equations of Normals\n",
      "324. Equations of Tangents\n",
      "325. Exponential Growth and Decay\n",
      "326. Finding Maximums and Minimums\n",
      "327. Finding the Gradient\n",
      "328. Implicit Differentiation\n",
      "329. Increasing and Decreasing Functions\n",
      "330. Points of Inflection\n",
      "331. Product Rule\n",
      "332. Quotient Rule\n",
      "333. Second Order Derivative\n",
      "334. Exponentials and Logarithms-Others\n",
      "335. Graphs of Exp and Log Functions\n",
      "336. Laws of Logarithms\n",
      "337. Linear Laws\n",
      "338. Solving Equations with Exps and Logs\n",
      "339. Advanced Transformation of Functions\n",
      "340. Composite Functions\n",
      "341. Domain and Range\n",
      "342. Function Notation\n",
      "343. Functions-Others\n",
      "344. Inverse Functions\n",
      "345. Modulus Function\n",
      "346. Continuity of Functions\n",
      "347. Further Functions-Others\n",
      "348. Graphs of Irrational Functions\n",
      "349. Graphs of Rational Functions\n",
      "350. Hyperbolic Functions\n",
      "351. Limits of Functions\n",
      "352. Group Theory-Others\n",
      "353. Properties of Groups\n",
      "354. Structures and Operations\n",
      "355. Types of Groups\n",
      "356. Area Between Two Functions\n",
      "357. Area Under a Curve\n",
      "358. Basic Definite Integration\n",
      "359. Basic Indefinite Integration\n",
      "360. Finding the Equation of a Curve from dy/dx\n",
      "361. Improper Integrals and Limits to Infinity\n",
      "362. Integration Involving Exponentials\n",
      "363. Integration Involving Logs\n",
      "364. Integration Involving Partial Fractions\n",
      "365. Integration Involving Trigonometric Functions\n",
      "366. Integration by Parts\n",
      "367. Integration in Context\n",
      "368. Integration-Others\n",
      "369. Simpson's Rule\n",
      "370. Trapezium Rule\n",
      "371. Volume of Revolution\n",
      "372. Addition and Subtraction of Matrices\n",
      "373. Determinants and Inverses of 2×2\n",
      "374. Determinants and Inverses of 3×3\n",
      "375. Matrices-Others\n",
      "376. Multiplication of Matrices\n",
      "377. Transformations of Matrices\n",
      "378. Approximation of Roots\n",
      "379. Euler's Method\n",
      "380. Interval Bisection\n",
      "381. Newton-Rhapson Method\n",
      "382. Numerical Methods-Others\n",
      "383. Converting between Parametric and Cartesian Forms\n",
      "384. Graphs of Curves Defined Parametrically\n",
      "385. Parametric Differentiation\n",
      "386. Parametric Equations-Others\n",
      "387. Area of a Sector\n",
      "388. Area of a Segment\n",
      "389. Converting Between Degrees and Radians\n",
      "390. Length of an Arc\n",
      "391. Radians-Others\n",
      "392. Cubic Equations\n",
      "393. Quadratic Equations\n",
      "394. Roots of Other Polynomials\n",
      "395. Roots of Polynomials-Others\n",
      "396. Arithmetic Sequences\n",
      "397. Geometric Sequences\n",
      "398. Limiting Values of Sequences\n",
      "399. Maclaurin Series\n",
      "400. Recurrence Relations\n",
      "401. Sequences and Series-Others\n",
      "402. Sigma Notation\n",
      "403. Sum to Infinity\n",
      "404. Summing Series\n",
      "\n",
      "\n",
      "Please write 5 diagnostic questions. Misconception: Believes midpoint multiplied by frequency is equivalent to frequency density\n",
      "<|im_end|>\n",
      "<|im_start|>assistant\n",
      "\n"
     ]
    }
   ],
   "source": [
    "i = 40\n",
    "row = df.iloc[i]\n",
    "misconception_id = row['MisconceptionId']\n",
    "misconception = row['MisconceptionName']\n",
    "\n",
    "p_base = random.random()\n",
    "p_sup = random.random()\n",
    "if (misconception_id not in base_misconception_dfs) and (misconception_id in sup_misconception_dfs):\n",
    "    p_base = 2\n",
    "    p_sup = -1\n",
    "elif (misconception_id in base_misconception_dfs) and (misconception_id not in sup_misconception_dfs):\n",
    "    p_base = -1\n",
    "    p_sup = 2\n",
    "elif (len(base_misconception_dfs[misconception_id]) == 1) or (len(sup_misconception_dfs[misconception_id]) == 1):\n",
    "    if (len(base_misconception_dfs[misconception_id]) == 1) and (len(sup_misconception_dfs[misconception_id]) == 1):\n",
    "        p_base = -1\n",
    "        p_sup = -1\n",
    "    elif len(base_misconception_dfs[misconception_id]) == 1:\n",
    "        p_sup = -1\n",
    "    elif len(sup_misconception_dfs[misconception_id]) == 1:\n",
    "        p_base = -1\n",
    "if p_base < 0.7 and p_sup < 0.7:\n",
    "    row_base = base_misconception_dfs[misconception_id].sample(1).iloc[0]\n",
    "    row_sup = sup_misconception_dfs[misconception_id].sample(1).iloc[0]\n",
    "elif p_base >= 0.7 and p_sup < 0.7:\n",
    "    rows = sup_misconception_dfs[misconception_id].sample(2)\n",
    "    row_base = rows.iloc[0]\n",
    "    row_sup = rows.iloc[1]\n",
    "elif p_base < 0.7 and p_sup >= 0.7:\n",
    "    rows = base_misconception_dfs[misconception_id].sample(2)\n",
    "    row_base = rows.iloc[0]\n",
    "    row_sup = rows.iloc[1]\n",
    "else:\n",
    "    row_base = sup_misconception_dfs[misconception_id].sample(1).iloc[0]\n",
    "    row_sup = base_misconception_dfs[misconception_id].sample(1).iloc[0]\n",
    "\n",
    "base_first_subject = row_base['FirstSubjectName']\n",
    "base_second_subject = row_base['SecondSubjectName']\n",
    "base_third_subject = row_base['ThirdSubjectName']\n",
    "base_construct = row_base['ConstructName']\n",
    "base_question = row_base['QuestionText']\n",
    "sup_first_subject = row_sup['FirstSubjectName']\n",
    "sup_second_subject = row_sup['SecondSubjectName']\n",
    "sup_third_subject = row_sup['ThirdSubjectName']\n",
    "sup_construct = row_sup['ConstructName']\n",
    "sup_question = row_sup['QuestionText']\n",
    "\n",
    "user_prompt = user_prompt_template.format(base_first_subject=base_first_subject, base_second_subject=base_second_subject, base_third_subject=base_third_subject, base_construct=base_construct, base_question=base_question, sup_first_subject=sup_first_subject, sup_second_subject=sup_second_subject, sup_third_subject=sup_third_subject, sup_construct=sup_construct, sup_question=sup_question, misconception=misconception)\n",
    "messages = [\n",
    "    {\"role\": \"system\", \"content\": system_prompt_template},\n",
    "    {\"role\": \"user\", \"content\": user_prompt},\n",
    "]\n",
    "\n",
    "text = tokenizer.apply_chat_template(messages, tokenize=False, add_generation_prompt=True)\n",
    "print(text)"
   ]
  },
  {
   "cell_type": "code",
   "execution_count": 11,
   "metadata": {},
   "outputs": [
    {
     "name": "stderr",
     "output_type": "stream",
     "text": [
      "Processed prompts: 100%|██████████| 1/1 [00:19<00:00, 19.77s/it, est. speed input: 221.44 toks/s, output: 13.00 toks/s]"
     ]
    },
    {
     "name": "stdout",
     "output_type": "stream",
     "text": [
      "Topic: Histogram. Question: A histogram shows the distribution of test scores. If 30 students scored between 70-79, and the class width is 10, what is the frequency density for this class?\n",
      "\n",
      "Topic: Data Representation-Others. Question: A frequency table shows the number of hours students spend on homework each week. If 15 students spent 10-14 hours, and the class width is 5, what is the frequency density for this class?\n",
      "\n",
      "Topic: Histogram. Question: A histogram represents the ages of participants in a survey. If 45 participants are between 20-29 years old, and the class width is 10, what is the frequency density for this class?\n",
      "\n",
      "Topic: Data Representation-Others. Question: A frequency table shows the number of books read by students in a year. If 25 students read 5-9 books, and the class width is 5, what is the frequency density for this class?\n",
      "\n",
      "Topic: Histogram. Question: A histogram displays the heights of a group of trees. If 20 trees are between 15-20 meters tall, and the class width is 5, what is the frequency density for this class?\n"
     ]
    },
    {
     "name": "stderr",
     "output_type": "stream",
     "text": [
      "\n"
     ]
    }
   ],
   "source": [
    "output = llm.generate(text, sampling_params=sampling_params)\n",
    "print(output[0].outputs[0].text)"
   ]
  },
  {
   "cell_type": "code",
   "execution_count": 17,
   "metadata": {},
   "outputs": [
    {
     "data": {
      "application/vnd.jupyter.widget-view+json": {
       "model_id": "b09e66f7ec774d4ab4a7813d2cf079f9",
       "version_major": 2,
       "version_minor": 0
      },
      "text/plain": [
       "  0%|          | 0/2587 [00:00<?, ?it/s]"
      ]
     },
     "metadata": {},
     "output_type": "display_data"
    }
   ],
   "source": [
    "from tqdm.auto import tqdm\n",
    "all_texts = []\n",
    "misconception_ids = []\n",
    "misconceptions = []\n",
    "for i in tqdm(range(len(df))):\n",
    "    row = df.iloc[i]\n",
    "    misconception_id = row['MisconceptionId']\n",
    "    misconception = row['MisconceptionName']\n",
    "    for _ in range(question_nums):\n",
    "        p_base = random.random()\n",
    "        p_sup = random.random()\n",
    "        if (misconception_id not in base_misconception_dfs) and (misconception_id in sup_misconception_dfs):\n",
    "            p_base = 2\n",
    "            p_sup = -1\n",
    "        elif (misconception_id in base_misconception_dfs) and (misconception_id not in sup_misconception_dfs):\n",
    "            p_base = -1\n",
    "            p_sup = 2\n",
    "        elif (len(base_misconception_dfs[misconception_id]) == 1) or (len(sup_misconception_dfs[misconception_id]) == 1):\n",
    "            if (len(base_misconception_dfs[misconception_id]) == 1) and (len(sup_misconception_dfs[misconception_id]) == 1):\n",
    "                p_base = -1\n",
    "                p_sup = -1\n",
    "            elif len(base_misconception_dfs[misconception_id]) == 1:\n",
    "                p_sup = -1\n",
    "            elif len(sup_misconception_dfs[misconception_id]) == 1:\n",
    "                p_base = -1\n",
    "        if p_base < 0.7 and p_sup < 0.7:\n",
    "            row_base = base_misconception_dfs[misconception_id].sample(1).iloc[0]\n",
    "            row_sup = sup_misconception_dfs[misconception_id].sample(1).iloc[0]\n",
    "        elif p_base >= 0.7 and p_sup < 0.7:\n",
    "            rows = sup_misconception_dfs[misconception_id].sample(2)\n",
    "            row_base = rows.iloc[0]\n",
    "            row_sup = rows.iloc[1]\n",
    "        elif p_base < 0.7 and p_sup >= 0.7:\n",
    "            rows = base_misconception_dfs[misconception_id].sample(2)\n",
    "            row_base = rows.iloc[0]\n",
    "            row_sup = rows.iloc[1]\n",
    "        else:\n",
    "            row_base = sup_misconception_dfs[misconception_id].sample(1).iloc[0]\n",
    "            row_sup = base_misconception_dfs[misconception_id].sample(1).iloc[0]\n",
    "\n",
    "        base_first_subject = row_base['FirstSubjectName']\n",
    "        base_second_subject = row_base['SecondSubjectName']\n",
    "        base_third_subject = row_base['ThirdSubjectName']\n",
    "        base_construct = row_base['ConstructName']\n",
    "        base_question = row_base['QuestionText']\n",
    "        sup_first_subject = row_sup['FirstSubjectName']\n",
    "        sup_second_subject = row_sup['SecondSubjectName']\n",
    "        sup_third_subject = row_sup['ThirdSubjectName']\n",
    "        sup_construct = row_sup['ConstructName']\n",
    "        sup_question = row_sup['QuestionText']\n",
    "\n",
    "        user_prompt = user_prompt_template.format(base_first_subject=base_first_subject, base_second_subject=base_second_subject, base_third_subject=base_third_subject, base_construct=base_construct, base_question=base_question, sup_first_subject=sup_first_subject, sup_second_subject=sup_second_subject, sup_third_subject=sup_third_subject, sup_construct=sup_construct, sup_question=sup_question, misconception=misconception)\n",
    "        messages = [\n",
    "            {\"role\": \"system\", \"content\": system_prompt_template},\n",
    "            {\"role\": \"user\", \"content\": user_prompt},\n",
    "        ]\n",
    "\n",
    "        text = tokenizer.apply_chat_template(messages, tokenize=False, add_generation_prompt=True)\n",
    "        all_texts.append(text)\n",
    "        misconception_ids.append(misconception_id)\n",
    "        misconceptions.append(misconception)"
   ]
  },
  {
   "cell_type": "code",
   "execution_count": null,
   "metadata": {},
   "outputs": [],
   "source": [
    "output = llm.generate(all_texts, sampling_params=sampling_params)"
   ]
  },
  {
   "cell_type": "code",
   "execution_count": 18,
   "metadata": {},
   "outputs": [
    {
     "data": {
      "text/html": [
       "<div>\n",
       "<style scoped>\n",
       "    .dataframe tbody tr th:only-of-type {\n",
       "        vertical-align: middle;\n",
       "    }\n",
       "\n",
       "    .dataframe tbody tr th {\n",
       "        vertical-align: top;\n",
       "    }\n",
       "\n",
       "    .dataframe thead th {\n",
       "        text-align: right;\n",
       "    }\n",
       "</style>\n",
       "<table border=\"1\" class=\"dataframe\">\n",
       "  <thead>\n",
       "    <tr style=\"text-align: right;\">\n",
       "      <th></th>\n",
       "      <th>MisconceptionId</th>\n",
       "      <th>MisconceptionName</th>\n",
       "    </tr>\n",
       "  </thead>\n",
       "  <tbody>\n",
       "    <tr>\n",
       "      <th>0</th>\n",
       "      <td>0</td>\n",
       "      <td>Does not know that angles in a triangle sum to...</td>\n",
       "    </tr>\n",
       "    <tr>\n",
       "      <th>1</th>\n",
       "      <td>0</td>\n",
       "      <td>Does not know that angles in a triangle sum to...</td>\n",
       "    </tr>\n",
       "    <tr>\n",
       "      <th>2</th>\n",
       "      <td>0</td>\n",
       "      <td>Does not know that angles in a triangle sum to...</td>\n",
       "    </tr>\n",
       "    <tr>\n",
       "      <th>3</th>\n",
       "      <td>0</td>\n",
       "      <td>Does not know that angles in a triangle sum to...</td>\n",
       "    </tr>\n",
       "    <tr>\n",
       "      <th>4</th>\n",
       "      <td>0</td>\n",
       "      <td>Does not know that angles in a triangle sum to...</td>\n",
       "    </tr>\n",
       "    <tr>\n",
       "      <th>...</th>\n",
       "      <td>...</td>\n",
       "      <td>...</td>\n",
       "    </tr>\n",
       "    <tr>\n",
       "      <th>51735</th>\n",
       "      <td>2586</td>\n",
       "      <td>Misunderstands order of operations in algebrai...</td>\n",
       "    </tr>\n",
       "    <tr>\n",
       "      <th>51736</th>\n",
       "      <td>2586</td>\n",
       "      <td>Misunderstands order of operations in algebrai...</td>\n",
       "    </tr>\n",
       "    <tr>\n",
       "      <th>51737</th>\n",
       "      <td>2586</td>\n",
       "      <td>Misunderstands order of operations in algebrai...</td>\n",
       "    </tr>\n",
       "    <tr>\n",
       "      <th>51738</th>\n",
       "      <td>2586</td>\n",
       "      <td>Misunderstands order of operations in algebrai...</td>\n",
       "    </tr>\n",
       "    <tr>\n",
       "      <th>51739</th>\n",
       "      <td>2586</td>\n",
       "      <td>Misunderstands order of operations in algebrai...</td>\n",
       "    </tr>\n",
       "  </tbody>\n",
       "</table>\n",
       "<p>51740 rows × 2 columns</p>\n",
       "</div>"
      ],
      "text/plain": [
       "       MisconceptionId                                  MisconceptionName\n",
       "0                    0  Does not know that angles in a triangle sum to...\n",
       "1                    0  Does not know that angles in a triangle sum to...\n",
       "2                    0  Does not know that angles in a triangle sum to...\n",
       "3                    0  Does not know that angles in a triangle sum to...\n",
       "4                    0  Does not know that angles in a triangle sum to...\n",
       "...                ...                                                ...\n",
       "51735             2586  Misunderstands order of operations in algebrai...\n",
       "51736             2586  Misunderstands order of operations in algebrai...\n",
       "51737             2586  Misunderstands order of operations in algebrai...\n",
       "51738             2586  Misunderstands order of operations in algebrai...\n",
       "51739             2586  Misunderstands order of operations in algebrai...\n",
       "\n",
       "[51740 rows x 2 columns]"
      ]
     },
     "execution_count": 18,
     "metadata": {},
     "output_type": "execute_result"
    }
   ],
   "source": [
    "df_output = pd.DataFrame({'MisconceptionId': misconception_ids, 'MisconceptionName': misconceptions})\n",
    "df_output"
   ]
  },
  {
   "cell_type": "code",
   "execution_count": null,
   "metadata": {},
   "outputs": [],
   "source": [
    "df['synthetic_question'] = [x.outputs[0].text for x in output]"
   ]
  },
  {
   "cell_type": "code",
   "execution_count": null,
   "metadata": {},
   "outputs": [],
   "source": [
    "def extract_question(text):\n",
    "    topics = []\n",
    "    questions = []\n",
    "    splits = text.split('Topic:')\n",
    "    for split in splits:\n",
    "        try:\n",
    "            topic, question = split.split('Question:')\n",
    "            topic = topic.strip()\n",
    "            if topic[-1] == '.':\n",
    "                topic = topic[:-1]\n",
    "            question = question.strip()\n",
    "            if question[-1] == '.':\n",
    "                question = question[:-1]\n",
    "            topics.append(topic)\n",
    "            questions.append(question)\n",
    "        except:\n",
    "            continue\n",
    "    return topics, questions"
   ]
  },
  {
   "cell_type": "code",
   "execution_count": null,
   "metadata": {},
   "outputs": [],
   "source": [
    "rows = []\n",
    "for i in range(len(df)):\n",
    "    row = df.iloc[i]\n",
    "    mis_id = row['MisconceptionId']\n",
    "    mis_name = row['MisconceptionName']\n",
    "    synthetic_question = row['synthetic_question']\n",
    "    topics, questions = extract_question(synthetic_question)\n",
    "    for topic, question in zip(topics, questions):\n",
    "        rows.append([mis_id, mis_name, topic, question])\n",
    "df_generated = pd.DataFrame(rows, columns=['MisconceptionId', 'MisconceptionName', 'SubjectName', 'QuestionText'])"
   ]
  },
  {
   "cell_type": "code",
   "execution_count": null,
   "metadata": {},
   "outputs": [],
   "source": [
    "df_generated.to_csv('../../../../data/2.synthetic_data_generation/generation3/generation3_qwen.csv', index=False)"
   ]
  },
  {
   "cell_type": "code",
   "execution_count": null,
   "metadata": {},
   "outputs": [],
   "source": []
  }
 ],
 "metadata": {
  "kernelspec": {
   "display_name": "Python 3 (ipykernel)",
   "language": "python",
   "name": "python3"
  },
  "language_info": {
   "codemirror_mode": {
    "name": "ipython",
    "version": 3
   },
   "file_extension": ".py",
   "mimetype": "text/x-python",
   "name": "python",
   "nbconvert_exporter": "python",
   "pygments_lexer": "ipython3",
   "version": "3.11.10"
  }
 },
 "nbformat": 4,
 "nbformat_minor": 2
}
