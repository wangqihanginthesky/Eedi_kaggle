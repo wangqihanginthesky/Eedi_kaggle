{
 "cells": [
  {
   "cell_type": "code",
   "execution_count": null,
   "metadata": {},
   "outputs": [
    {
     "name": "stderr",
     "output_type": "stream",
     "text": [
      "2024-11-18 11:59:19.080141: E external/local_xla/xla/stream_executor/cuda/cuda_fft.cc:477] Unable to register cuFFT factory: Attempting to register factory for plugin cuFFT when one has already been registered\n",
      "WARNING: All log messages before absl::InitializeLog() is called are written to STDERR\n",
      "E0000 00:00:1731898759.098048 2169695 cuda_dnn.cc:8310] Unable to register cuDNN factory: Attempting to register factory for plugin cuDNN when one has already been registered\n",
      "E0000 00:00:1731898759.103752 2169695 cuda_blas.cc:1418] Unable to register cuBLAS factory: Attempting to register factory for plugin cuBLAS when one has already been registered\n",
      "2024-11-18 11:59:19.148853: I tensorflow/core/platform/cpu_feature_guard.cc:210] This TensorFlow binary is optimized to use available CPU instructions in performance-critical operations.\n",
      "To enable the following instructions: AVX2 FMA, in other operations, rebuild TensorFlow with the appropriate compiler flags.\n",
      "/home/rihankoo/.local/lib/python3.11/site-packages/vllm/connections.py:8: RuntimeWarning: Failed to read commit hash:\n",
      "No module named 'vllm._version'\n",
      "  from vllm.version import __version__ as VLLM_VERSION\n"
     ]
    }
   ],
   "source": [
    "import pandas as pd\n",
    "import torch\n",
    "import numpy as np\n",
    "from vllm import LLM, SamplingParams\n",
    "from tqdm.auto import tqdm\n",
    "import random\n",
    "import os\n",
    "\n",
    "import os\n",
    "from openai import OpenAI\n",
    "\n",
    "token = 'Your API Key'\n",
    "\n",
    "os.environ[\"OPENAI_API_KEY\"] = token"
   ]
  },
  {
   "cell_type": "code",
   "execution_count": null,
   "metadata": {},
   "outputs": [
    {
     "name": "stdout",
     "output_type": "stream",
     "text": [
      "> SEEDING DONE\n"
     ]
    }
   ],
   "source": [
    "seed = 18\n",
    "# seed = 20241027\n",
    "# seed = 20240617\n",
    "# seed = 355643\n",
    "\n",
    "def set_seed(seed = 42):\n",
    "    '''Sets the seed of the entire notebook so results are the same every time we run.\n",
    "    This is for REPRODUCIBILITY.'''\n",
    "    np.random.seed(seed)\n",
    "    random.seed(seed)\n",
    "    torch.manual_seed(seed)\n",
    "    torch.cuda.manual_seed(seed)\n",
    "    # When running on the CuDNN backend, two further options must be set\n",
    "    torch.backends.cudnn.deterministic = True\n",
    "    torch.backends.cudnn.benchmark = False\n",
    "    # Set a fixed value for the hash seed\n",
    "    os.environ['PYTHONHASHSEED'] = str(seed)\n",
    "    print('> SEEDING DONE')\n",
    "\n",
    "set_seed(seed)"
   ]
  },
  {
   "cell_type": "code",
   "execution_count": 3,
   "metadata": {},
   "outputs": [],
   "source": [
    "question_nums = 20"
   ]
  },
  {
   "cell_type": "code",
   "execution_count": 1,
   "metadata": {},
   "outputs": [
    {
     "data": {
      "text/html": [
       "<div>\n",
       "<style scoped>\n",
       "    .dataframe tbody tr th:only-of-type {\n",
       "        vertical-align: middle;\n",
       "    }\n",
       "\n",
       "    .dataframe tbody tr th {\n",
       "        vertical-align: top;\n",
       "    }\n",
       "\n",
       "    .dataframe thead th {\n",
       "        text-align: right;\n",
       "    }\n",
       "</style>\n",
       "<table border=\"1\" class=\"dataframe\">\n",
       "  <thead>\n",
       "    <tr style=\"text-align: right;\">\n",
       "      <th></th>\n",
       "      <th>MisconceptionId</th>\n",
       "      <th>MisconceptionName</th>\n",
       "    </tr>\n",
       "  </thead>\n",
       "  <tbody>\n",
       "    <tr>\n",
       "      <th>0</th>\n",
       "      <td>0</td>\n",
       "      <td>Does not know that angles in a triangle sum to...</td>\n",
       "    </tr>\n",
       "    <tr>\n",
       "      <th>1</th>\n",
       "      <td>1</td>\n",
       "      <td>Uses dividing fractions method for multiplying...</td>\n",
       "    </tr>\n",
       "    <tr>\n",
       "      <th>2</th>\n",
       "      <td>2</td>\n",
       "      <td>Believes there are 100 degrees in a full turn</td>\n",
       "    </tr>\n",
       "    <tr>\n",
       "      <th>3</th>\n",
       "      <td>3</td>\n",
       "      <td>Thinks a quadratic without a non variable term...</td>\n",
       "    </tr>\n",
       "    <tr>\n",
       "      <th>4</th>\n",
       "      <td>4</td>\n",
       "      <td>Believes addition of terms and powers of terms...</td>\n",
       "    </tr>\n",
       "    <tr>\n",
       "      <th>...</th>\n",
       "      <td>...</td>\n",
       "      <td>...</td>\n",
       "    </tr>\n",
       "    <tr>\n",
       "      <th>2582</th>\n",
       "      <td>2582</td>\n",
       "      <td>When multiplying numbers with the same base, m...</td>\n",
       "    </tr>\n",
       "    <tr>\n",
       "      <th>2583</th>\n",
       "      <td>2583</td>\n",
       "      <td>Does not know what a cube number is</td>\n",
       "    </tr>\n",
       "    <tr>\n",
       "      <th>2584</th>\n",
       "      <td>2584</td>\n",
       "      <td>Believes that any percentage of a larger numbe...</td>\n",
       "    </tr>\n",
       "    <tr>\n",
       "      <th>2585</th>\n",
       "      <td>2585</td>\n",
       "      <td>Believes a cubic expression should have three ...</td>\n",
       "    </tr>\n",
       "    <tr>\n",
       "      <th>2586</th>\n",
       "      <td>2586</td>\n",
       "      <td>Misunderstands order of operations in algebrai...</td>\n",
       "    </tr>\n",
       "  </tbody>\n",
       "</table>\n",
       "<p>2587 rows × 2 columns</p>\n",
       "</div>"
      ],
      "text/plain": [
       "      MisconceptionId                                  MisconceptionName\n",
       "0                   0  Does not know that angles in a triangle sum to...\n",
       "1                   1  Uses dividing fractions method for multiplying...\n",
       "2                   2      Believes there are 100 degrees in a full turn\n",
       "3                   3  Thinks a quadratic without a non variable term...\n",
       "4                   4  Believes addition of terms and powers of terms...\n",
       "...               ...                                                ...\n",
       "2582             2582  When multiplying numbers with the same base, m...\n",
       "2583             2583                Does not know what a cube number is\n",
       "2584             2584  Believes that any percentage of a larger numbe...\n",
       "2585             2585  Believes a cubic expression should have three ...\n",
       "2586             2586  Misunderstands order of operations in algebrai...\n",
       "\n",
       "[2587 rows x 2 columns]"
      ]
     },
     "execution_count": 1,
     "metadata": {},
     "output_type": "execute_result"
    }
   ],
   "source": [
    "import pandas as pd\n",
    "df = pd.read_csv('../../../../data/raw/misconception_mapping.csv')\n",
    "df"
   ]
  },
  {
   "cell_type": "code",
   "execution_count": null,
   "metadata": {},
   "outputs": [],
   "source": [
    "df1 = pd.read_csv('../../../../data/1.chain_of_thought/train.csv')\n",
    "df1['quality-gpt4o-mini'] = 5\n",
    "df2 = pd.read_csv('../../../../data/2.synthetic_data_generation/generation2/generation2_all_render.csv')\n",
    "df3 = pd.read_csv('../../../../data/2.synthetic_data_generation/generation1/generation1_all_render.csv')\n"
   ]
  },
  {
   "cell_type": "code",
   "execution_count": null,
   "metadata": {},
   "outputs": [],
   "source": [
    "df_base = pd.concat([df1, df2], axis=0).reset_index(drop=True)\n",
    "df_sup = pd.concat([df3], axis=0).reset_index(drop=True)"
   ]
  },
  {
   "cell_type": "code",
   "execution_count": 7,
   "metadata": {},
   "outputs": [
    {
     "data": {
      "text/plain": [
       "(82217, 52919)"
      ]
     },
     "execution_count": 7,
     "metadata": {},
     "output_type": "execute_result"
    }
   ],
   "source": [
    "len(df_base), len(df_sup)"
   ]
  },
  {
   "cell_type": "code",
   "execution_count": 8,
   "metadata": {},
   "outputs": [
    {
     "data": {
      "text/plain": [
       "MisconceptionId\n",
       "1214.0    84\n",
       "2316.0    79\n",
       "1379.0    77\n",
       "1880.0    71\n",
       "1990.0    68\n",
       "          ..\n",
       "1391.0     3\n",
       "1534.0     3\n",
       "343.0      2\n",
       "2182.0     1\n",
       "2224.0     1\n",
       "Name: count, Length: 2586, dtype: int64"
      ]
     },
     "execution_count": 8,
     "metadata": {},
     "output_type": "execute_result"
    }
   ],
   "source": [
    "df_base['MisconceptionId'].value_counts()"
   ]
  },
  {
   "cell_type": "code",
   "execution_count": 9,
   "metadata": {},
   "outputs": [
    {
     "data": {
      "text/plain": [
       "MisconceptionId\n",
       "0       21\n",
       "1400    21\n",
       "1540    21\n",
       "1539    21\n",
       "1531    21\n",
       "        ..\n",
       "1103    17\n",
       "101     17\n",
       "2026    17\n",
       "1905    17\n",
       "2567    16\n",
       "Name: count, Length: 2587, dtype: int64"
      ]
     },
     "execution_count": 9,
     "metadata": {},
     "output_type": "execute_result"
    }
   ],
   "source": [
    "df_sup['MisconceptionId'].value_counts()"
   ]
  },
  {
   "cell_type": "code",
   "execution_count": 10,
   "metadata": {},
   "outputs": [],
   "source": [
    "quality_thre = 2\n",
    "df_base = df_base[df_base['quality-gpt4o-mini'] >= quality_thre].reset_index(drop=True)\n",
    "df_sup = df_sup[df_sup['quality-gpt4o-mini'] >= quality_thre].reset_index(drop=True)"
   ]
  },
  {
   "cell_type": "code",
   "execution_count": 11,
   "metadata": {},
   "outputs": [
    {
     "data": {
      "text/plain": [
       "MisconceptionId\n",
       "2316.0    74\n",
       "1214.0    72\n",
       "1379.0    69\n",
       "1507.0    66\n",
       "1880.0    65\n",
       "          ..\n",
       "1391.0     2\n",
       "2182.0     1\n",
       "2150.0     1\n",
       "1001.0     1\n",
       "928.0      1\n",
       "Name: count, Length: 2585, dtype: int64"
      ]
     },
     "execution_count": 11,
     "metadata": {},
     "output_type": "execute_result"
    }
   ],
   "source": [
    "df_base['MisconceptionId'].value_counts()"
   ]
  },
  {
   "cell_type": "code",
   "execution_count": 12,
   "metadata": {},
   "outputs": [
    {
     "data": {
      "text/plain": [
       "MisconceptionId\n",
       "995     21\n",
       "81      21\n",
       "160     21\n",
       "2121    21\n",
       "864     21\n",
       "        ..\n",
       "2132     3\n",
       "1080     3\n",
       "1954     2\n",
       "277      2\n",
       "205      2\n",
       "Name: count, Length: 2587, dtype: int64"
      ]
     },
     "execution_count": 12,
     "metadata": {},
     "output_type": "execute_result"
    }
   ],
   "source": [
    "df_sup['MisconceptionId'].value_counts()"
   ]
  },
  {
   "cell_type": "code",
   "execution_count": 13,
   "metadata": {},
   "outputs": [],
   "source": [
    "ak = df_base['MisconceptionId'].value_counts()\n",
    "bk = df_sup['MisconceptionId'].value_counts()\n",
    "\n",
    "ck = {}\n",
    "for mis_id in df['MisconceptionId']:\n",
    "    count = 0\n",
    "    if mis_id in ak:\n",
    "        count += ak[mis_id]\n",
    "    if mis_id in bk:\n",
    "        count += bk[mis_id]\n",
    "    ck[mis_id] = count\n",
    "\n",
    "for mis_id in ck:\n",
    "    if ck[mis_id] < 2:\n",
    "        print(mis_id, ck[mis_id])"
   ]
  },
  {
   "cell_type": "code",
   "execution_count": 14,
   "metadata": {},
   "outputs": [],
   "source": [
    "base_misconception_dfs = {}\n",
    "for mis_id, df_slice in df_base.groupby('MisconceptionId'):\n",
    "    base_misconception_dfs[mis_id] = df_slice.reset_index(drop=True)\n",
    "\n",
    "sup_misconception_dfs = {}\n",
    "for mis_id, df_slice in df_sup.groupby('MisconceptionId'):\n",
    "    sup_misconception_dfs[mis_id] = df_slice.reset_index(drop=True)"
   ]
  },
  {
   "cell_type": "code",
   "execution_count": 15,
   "metadata": {},
   "outputs": [],
   "source": [
    "system_prompt_template = '''You are an excellent math teacher about to teach students of year group 1 to 14. You will be provided a misconception that your students may have. Your goal is to write a diagnostic question that can help you identify the misconception. You will be given two math questions, Base Question and Supplementary Question. Please create a new and more challenging question based on the given Questions and following instructions.\n",
    "To achieve the goal, you have four jobs.\n",
    "# Add one more step to the Base Question to make it more difficult and Create a new question.\n",
    "# Changing the proper nouns, numerical values, fractions, multiples and problem background by getting inspiration from the Supplementary Question for generating a new question.\n",
    "# Check the question step-by-step to find out if it adheres to all principles.\n",
    "# Modify the created question according to your checking comment to ensure it is of high quality.\n",
    "\n",
    "You have five principles to do this.\n",
    "# The question MUST NOT be just asking mathematical concepts, please provide specific context.\n",
    "# The question must have a single correct answer, please DO NOT ask open questions.\n",
    "# The question must be useful to identify the misconception, meaning that there is a potential wrong answer relevant to the given misconception.\n",
    "# Please DO NOT include solution in your question.\n",
    "# Please generate only one question. The question should be in format of \"Subject: <subject>. Topic: <topic>. Subtopic: <subtopic>. Construct: <construct>. Question: <question>\"'''\n",
    "\n",
    "user_prompt_template ='''Misconception: {misconception}\n",
    "Base Question: Subject: {base_first_subject}. Topic: {base_second_subject}. Subtopic: {base_third_subject}. Construct: {base_construct}. Question:{base_question}\n",
    "Supplementary Question: Subject: {sup_first_subject}. Topic: {sup_second_subject}. Subtopic: {sup_third_subject}. Construct: {sup_construct}. Question:{sup_question}\n",
    "\n",
    "Your output should be in the following format:\n",
    "\n",
    "CREATED QUESTION: Subject: <your created subject>. Topic: <your created topic>. Subtopic: <your created subtopic>. Construct: <your created construct>. Question: <your created question>\n",
    "\n",
    "VERIFICATION AND MODIFICATION: <check the question step-by-step and modify it to follow all principles>\n",
    "\n",
    "FINAL CREATED QUESTION: Subject: <your final created subject>. Topic: <your final created topic>. Subtopic: <your final created subtopic>. Construct: <your final created construct>. Question: <your final created question>\n",
    "'''"
   ]
  },
  {
   "cell_type": "code",
   "execution_count": null,
   "metadata": {},
   "outputs": [
    {
     "data": {
      "application/vnd.jupyter.widget-view+json": {
       "model_id": "b09e66f7ec774d4ab4a7813d2cf079f9",
       "version_major": 2,
       "version_minor": 0
      },
      "text/plain": [
       "  0%|          | 0/2587 [00:00<?, ?it/s]"
      ]
     },
     "metadata": {},
     "output_type": "display_data"
    }
   ],
   "source": [
    "from tqdm.auto import tqdm\n",
    "messages_list = []\n",
    "misconception_ids = []\n",
    "misconceptions = []\n",
    "for i in tqdm(range(len(df))):\n",
    "    row = df.iloc[i]\n",
    "    misconception_id = row['MisconceptionId']\n",
    "    misconception = row['MisconceptionName']\n",
    "    for _ in range(question_nums):\n",
    "        p_base = random.random()\n",
    "        p_sup = random.random()\n",
    "        if (misconception_id not in base_misconception_dfs) and (misconception_id in sup_misconception_dfs):\n",
    "            p_base = 2\n",
    "            p_sup = -1\n",
    "        elif (misconception_id in base_misconception_dfs) and (misconception_id not in sup_misconception_dfs):\n",
    "            p_base = -1\n",
    "            p_sup = 2\n",
    "        elif (len(base_misconception_dfs[misconception_id]) == 1) or (len(sup_misconception_dfs[misconception_id]) == 1):\n",
    "            if (len(base_misconception_dfs[misconception_id]) == 1) and (len(sup_misconception_dfs[misconception_id]) == 1):\n",
    "                p_base = -1\n",
    "                p_sup = -1\n",
    "            elif len(base_misconception_dfs[misconception_id]) == 1:\n",
    "                p_sup = -1\n",
    "            elif len(sup_misconception_dfs[misconception_id]) == 1:\n",
    "                p_base = -1\n",
    "        if p_base < 0.7 and p_sup < 0.7:\n",
    "            row_base = base_misconception_dfs[misconception_id].sample(1).iloc[0]\n",
    "            row_sup = sup_misconception_dfs[misconception_id].sample(1).iloc[0]\n",
    "        elif p_base >= 0.7 and p_sup < 0.7:\n",
    "            rows = sup_misconception_dfs[misconception_id].sample(2)\n",
    "            row_base = rows.iloc[0]\n",
    "            row_sup = rows.iloc[1]\n",
    "        elif p_base < 0.7 and p_sup >= 0.7:\n",
    "            rows = base_misconception_dfs[misconception_id].sample(2)\n",
    "            row_base = rows.iloc[0]\n",
    "            row_sup = rows.iloc[1]\n",
    "        else:\n",
    "            row_base = sup_misconception_dfs[misconception_id].sample(1).iloc[0]\n",
    "            row_sup = base_misconception_dfs[misconception_id].sample(1).iloc[0]\n",
    "\n",
    "        base_first_subject = row_base['FirstSubjectName']\n",
    "        base_second_subject = row_base['SecondSubjectName']\n",
    "        base_third_subject = row_base['ThirdSubjectName']\n",
    "        base_construct = row_base['ConstructName']\n",
    "        base_question = row_base['QuestionText']\n",
    "        sup_first_subject = row_sup['FirstSubjectName']\n",
    "        sup_second_subject = row_sup['SecondSubjectName']\n",
    "        sup_third_subject = row_sup['ThirdSubjectName']\n",
    "        sup_construct = row_sup['ConstructName']\n",
    "        sup_question = row_sup['QuestionText']\n",
    "\n",
    "        user_prompt = user_prompt_template.format(base_first_subject=base_first_subject, base_second_subject=base_second_subject, base_third_subject=base_third_subject, base_construct=base_construct, base_question=base_question, sup_first_subject=sup_first_subject, sup_second_subject=sup_second_subject, sup_third_subject=sup_third_subject, sup_construct=sup_construct, sup_question=sup_question, misconception=misconception)\n",
    "        messages = [\n",
    "            {\"role\": \"system\", \"content\": system_prompt_template},\n",
    "            {\"role\": \"user\", \"content\": user_prompt},\n",
    "        ]\n",
    "\n",
    "        messages_list.append(messages)\n",
    "        misconception_ids.append(misconception_id)\n",
    "        misconceptions.append(misconception)"
   ]
  },
  {
   "cell_type": "code",
   "execution_count": null,
   "metadata": {},
   "outputs": [],
   "source": [
    "from typing import List\n",
    "import json\n",
    "\n",
    "output_file = \"train_question_generation1.jsonl\"\n",
    "\n",
    "with open(output_file, 'a') as f:\n",
    "    _id=0\n",
    "    for messages in messages_list[2400:]:\n",
    "        data = {\n",
    "            \"custom_id\": f\"request-{_id}\",\n",
    "            \"method\": \"POST\",\n",
    "            \"url\": \"/v1/chat/completions\",\n",
    "            \"body\": {\n",
    "                \"model\": \"gpt-4o-mini\",\n",
    "                \"messages\": messages,\n",
    "                \"max_tokens\": 10000,\n",
    "            }\n",
    "        }\n",
    "        _id+=1\n",
    "        f.write(json.dumps(data) + '\\n')"
   ]
  },
  {
   "cell_type": "code",
   "execution_count": null,
   "metadata": {},
   "outputs": [],
   "source": [
    "client = OpenAI()\n",
    "\n",
    "batch_input_file = client.files.create(\n",
    "  file=open(output_file, \"rb\"),\n",
    "  purpose=\"batch\"\n",
    ")"
   ]
  },
  {
   "cell_type": "code",
   "execution_count": null,
   "metadata": {},
   "outputs": [],
   "source": [
    "batch_input_file_id = batch_input_file.id\n",
    "\n",
    "batch_job = client.batches.create(\n",
    "    input_file_id=batch_input_file_id,\n",
    "    endpoint=\"/v1/chat/completions\",\n",
    "    completion_window=\"24h\",\n",
    "    metadata={\n",
    "      \"description\": \"train_question_generation2\"\n",
    "    }\n",
    ")"
   ]
  },
  {
   "cell_type": "markdown",
   "metadata": {},
   "source": [
    "## wait for the batch job to complete and fetch the result"
   ]
  },
  {
   "cell_type": "code",
   "execution_count": null,
   "metadata": {},
   "outputs": [],
   "source": [
    "client.batches.retrieve(batch_job.id)"
   ]
  },
  {
   "cell_type": "code",
   "execution_count": null,
   "metadata": {},
   "outputs": [],
   "source": [
    "import json\n",
    "output_file_id = \"your-output-file-id\"\n",
    "file_response = client.files.content(output_file_id)\n",
    "lines = file_response.text.strip().split('\\n')\n",
    "data = [json.loads(line) for line in lines]\n",
    "len(data)"
   ]
  },
  {
   "cell_type": "code",
   "execution_count": 18,
   "metadata": {},
   "outputs": [
    {
     "data": {
      "text/html": [
       "<div>\n",
       "<style scoped>\n",
       "    .dataframe tbody tr th:only-of-type {\n",
       "        vertical-align: middle;\n",
       "    }\n",
       "\n",
       "    .dataframe tbody tr th {\n",
       "        vertical-align: top;\n",
       "    }\n",
       "\n",
       "    .dataframe thead th {\n",
       "        text-align: right;\n",
       "    }\n",
       "</style>\n",
       "<table border=\"1\" class=\"dataframe\">\n",
       "  <thead>\n",
       "    <tr style=\"text-align: right;\">\n",
       "      <th></th>\n",
       "      <th>MisconceptionId</th>\n",
       "      <th>MisconceptionName</th>\n",
       "    </tr>\n",
       "  </thead>\n",
       "  <tbody>\n",
       "    <tr>\n",
       "      <th>0</th>\n",
       "      <td>0</td>\n",
       "      <td>Does not know that angles in a triangle sum to...</td>\n",
       "    </tr>\n",
       "    <tr>\n",
       "      <th>1</th>\n",
       "      <td>0</td>\n",
       "      <td>Does not know that angles in a triangle sum to...</td>\n",
       "    </tr>\n",
       "    <tr>\n",
       "      <th>2</th>\n",
       "      <td>0</td>\n",
       "      <td>Does not know that angles in a triangle sum to...</td>\n",
       "    </tr>\n",
       "    <tr>\n",
       "      <th>3</th>\n",
       "      <td>0</td>\n",
       "      <td>Does not know that angles in a triangle sum to...</td>\n",
       "    </tr>\n",
       "    <tr>\n",
       "      <th>4</th>\n",
       "      <td>0</td>\n",
       "      <td>Does not know that angles in a triangle sum to...</td>\n",
       "    </tr>\n",
       "    <tr>\n",
       "      <th>...</th>\n",
       "      <td>...</td>\n",
       "      <td>...</td>\n",
       "    </tr>\n",
       "    <tr>\n",
       "      <th>51735</th>\n",
       "      <td>2586</td>\n",
       "      <td>Misunderstands order of operations in algebrai...</td>\n",
       "    </tr>\n",
       "    <tr>\n",
       "      <th>51736</th>\n",
       "      <td>2586</td>\n",
       "      <td>Misunderstands order of operations in algebrai...</td>\n",
       "    </tr>\n",
       "    <tr>\n",
       "      <th>51737</th>\n",
       "      <td>2586</td>\n",
       "      <td>Misunderstands order of operations in algebrai...</td>\n",
       "    </tr>\n",
       "    <tr>\n",
       "      <th>51738</th>\n",
       "      <td>2586</td>\n",
       "      <td>Misunderstands order of operations in algebrai...</td>\n",
       "    </tr>\n",
       "    <tr>\n",
       "      <th>51739</th>\n",
       "      <td>2586</td>\n",
       "      <td>Misunderstands order of operations in algebrai...</td>\n",
       "    </tr>\n",
       "  </tbody>\n",
       "</table>\n",
       "<p>51740 rows × 2 columns</p>\n",
       "</div>"
      ],
      "text/plain": [
       "       MisconceptionId                                  MisconceptionName\n",
       "0                    0  Does not know that angles in a triangle sum to...\n",
       "1                    0  Does not know that angles in a triangle sum to...\n",
       "2                    0  Does not know that angles in a triangle sum to...\n",
       "3                    0  Does not know that angles in a triangle sum to...\n",
       "4                    0  Does not know that angles in a triangle sum to...\n",
       "...                ...                                                ...\n",
       "51735             2586  Misunderstands order of operations in algebrai...\n",
       "51736             2586  Misunderstands order of operations in algebrai...\n",
       "51737             2586  Misunderstands order of operations in algebrai...\n",
       "51738             2586  Misunderstands order of operations in algebrai...\n",
       "51739             2586  Misunderstands order of operations in algebrai...\n",
       "\n",
       "[51740 rows x 2 columns]"
      ]
     },
     "execution_count": 18,
     "metadata": {},
     "output_type": "execute_result"
    }
   ],
   "source": [
    "df_output = pd.DataFrame({'MisconceptionId': misconception_ids, 'MisconceptionName': misconceptions})\n",
    "df_output"
   ]
  },
  {
   "cell_type": "code",
   "execution_count": null,
   "metadata": {},
   "outputs": [],
   "source": [
    "df['synthetic_question'] = data"
   ]
  },
  {
   "cell_type": "code",
   "execution_count": null,
   "metadata": {},
   "outputs": [],
   "source": [
    "def extract_question(text):\n",
    "    topics = []\n",
    "    questions = []\n",
    "    splits = text.split('Topic:')\n",
    "    for split in splits:\n",
    "        try:\n",
    "            topic, question = split.split('Question:')\n",
    "            topic = topic.strip()\n",
    "            if topic[-1] == '.':\n",
    "                topic = topic[:-1]\n",
    "            question = question.strip()\n",
    "            if question[-1] == '.':\n",
    "                question = question[:-1]\n",
    "            topics.append(topic)\n",
    "            questions.append(question)\n",
    "        except:\n",
    "            continue\n",
    "    return topics, questions"
   ]
  },
  {
   "cell_type": "code",
   "execution_count": null,
   "metadata": {},
   "outputs": [],
   "source": [
    "rows = []\n",
    "for i in range(len(df)):\n",
    "    row = df.iloc[i]\n",
    "    mis_id = row['MisconceptionId']\n",
    "    mis_name = row['MisconceptionName']\n",
    "    synthetic_question = row['synthetic_question']\n",
    "    topics, questions = extract_question(synthetic_question)\n",
    "    for topic, question in zip(topics, questions):\n",
    "        rows.append([mis_id, mis_name, topic, question])\n",
    "df_generated = pd.DataFrame(rows, columns=['MisconceptionId', 'MisconceptionName', 'SubjectName', 'QuestionText'])"
   ]
  },
  {
   "cell_type": "code",
   "execution_count": null,
   "metadata": {},
   "outputs": [],
   "source": [
    "df_generated.to_csv('../../../../data/2.synthetic_data_generation/generation3/generation3_openai.csv', index=False)"
   ]
  },
  {
   "cell_type": "code",
   "execution_count": null,
   "metadata": {},
   "outputs": [],
   "source": []
  }
 ],
 "metadata": {
  "kernelspec": {
   "display_name": "Python 3 (ipykernel)",
   "language": "python",
   "name": "python3"
  },
  "language_info": {
   "codemirror_mode": {
    "name": "ipython",
    "version": 3
   },
   "file_extension": ".py",
   "mimetype": "text/x-python",
   "name": "python",
   "nbconvert_exporter": "python",
   "pygments_lexer": "ipython3",
   "version": "3.11.10"
  }
 },
 "nbformat": 4,
 "nbformat_minor": 2
}
